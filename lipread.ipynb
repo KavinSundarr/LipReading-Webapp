{
 "cells": [
  {
   "cell_type": "code",
   "execution_count": 1,
   "id": "c413b39c-55ce-417a-bf03-733990a0e8ff",
   "metadata": {
    "collapsed": true,
    "jupyter": {
     "outputs_hidden": true
    },
    "tags": []
   },
   "outputs": [
    {
     "name": "stdout",
     "output_type": "stream",
     "text": [
      "Collecting opencv-python\n",
      "  Using cached opencv_python-4.7.0.72-cp37-abi3-win_amd64.whl (38.2 MB)\n",
      "Collecting matplotlib\n",
      "  Downloading matplotlib-3.7.1-cp310-cp310-win_amd64.whl (7.6 MB)\n",
      "     ---------------------------------------- 0.0/7.6 MB ? eta -:--:--\n",
      "     ---------------------------------------- 0.0/7.6 MB 660.6 kB/s eta 0:00:12\n",
      "     ---------------------------------------- 0.0/7.6 MB 660.6 kB/s eta 0:00:12\n",
      "     ---------------------------------------- 0.1/7.6 MB 751.6 kB/s eta 0:00:11\n",
      "     ---------------------------------------- 0.1/7.6 MB 751.6 kB/s eta 0:00:11\n",
      "      --------------------------------------- 0.1/7.6 MB 602.4 kB/s eta 0:00:13\n",
      "      --------------------------------------- 0.2/7.6 MB 612.6 kB/s eta 0:00:13\n",
      "     - -------------------------------------- 0.2/7.6 MB 692.4 kB/s eta 0:00:11\n",
      "     - -------------------------------------- 0.2/7.6 MB 726.5 kB/s eta 0:00:11\n",
      "     - -------------------------------------- 0.3/7.6 MB 770.1 kB/s eta 0:00:10\n",
      "     - -------------------------------------- 0.3/7.6 MB 840.2 kB/s eta 0:00:09\n",
      "     - -------------------------------------- 0.4/7.6 MB 791.2 kB/s eta 0:00:10\n",
      "     -- ------------------------------------- 0.5/7.6 MB 909.8 kB/s eta 0:00:08\n",
      "     -- ------------------------------------- 0.5/7.6 MB 914.6 kB/s eta 0:00:08\n",
      "     -- ------------------------------------- 0.6/7.6 MB 932.5 kB/s eta 0:00:08\n",
      "     --- ------------------------------------ 0.6/7.6 MB 1.0 MB/s eta 0:00:07\n",
      "     --- ------------------------------------ 0.7/7.6 MB 1.0 MB/s eta 0:00:07\n",
      "     --- ------------------------------------ 0.8/7.6 MB 1.1 MB/s eta 0:00:07\n",
      "     ---- ----------------------------------- 0.8/7.6 MB 1.1 MB/s eta 0:00:07\n",
      "     ---- ----------------------------------- 0.9/7.6 MB 1.1 MB/s eta 0:00:06\n",
      "     ----- ---------------------------------- 1.0/7.6 MB 1.2 MB/s eta 0:00:06\n",
      "     ----- ---------------------------------- 1.1/7.6 MB 1.2 MB/s eta 0:00:06\n",
      "     ------ --------------------------------- 1.1/7.6 MB 1.2 MB/s eta 0:00:06\n",
      "     ------ --------------------------------- 1.3/7.6 MB 1.3 MB/s eta 0:00:05\n",
      "     ------- -------------------------------- 1.4/7.6 MB 1.3 MB/s eta 0:00:05\n",
      "     ------- -------------------------------- 1.5/7.6 MB 1.4 MB/s eta 0:00:05\n",
      "     -------- ------------------------------- 1.6/7.6 MB 1.5 MB/s eta 0:00:05\n",
      "     -------- ------------------------------- 1.6/7.6 MB 1.4 MB/s eta 0:00:05\n",
      "     -------- ------------------------------- 1.7/7.6 MB 1.4 MB/s eta 0:00:05\n",
      "     --------- ------------------------------ 1.7/7.6 MB 1.5 MB/s eta 0:00:05\n",
      "     --------- ------------------------------ 1.7/7.6 MB 1.5 MB/s eta 0:00:05\n",
      "     --------- ------------------------------ 1.7/7.6 MB 1.5 MB/s eta 0:00:05\n",
      "     --------- ------------------------------ 1.7/7.6 MB 1.5 MB/s eta 0:00:05\n",
      "     --------- ------------------------------ 1.9/7.6 MB 1.3 MB/s eta 0:00:05\n",
      "     ---------- ----------------------------- 2.0/7.6 MB 1.4 MB/s eta 0:00:05\n",
      "     ---------- ----------------------------- 2.1/7.6 MB 1.4 MB/s eta 0:00:05\n",
      "     ----------- ---------------------------- 2.1/7.6 MB 1.4 MB/s eta 0:00:04\n",
      "     ----------- ---------------------------- 2.2/7.6 MB 1.4 MB/s eta 0:00:04\n",
      "     ----------- ---------------------------- 2.3/7.6 MB 1.4 MB/s eta 0:00:04\n",
      "     ----------- ---------------------------- 2.3/7.6 MB 1.4 MB/s eta 0:00:04\n",
      "     ------------ --------------------------- 2.3/7.6 MB 1.4 MB/s eta 0:00:04\n",
      "     ------------ --------------------------- 2.5/7.6 MB 1.4 MB/s eta 0:00:04\n",
      "     ------------- -------------------------- 2.6/7.6 MB 1.4 MB/s eta 0:00:04\n",
      "     ------------- -------------------------- 2.6/7.6 MB 1.5 MB/s eta 0:00:04\n",
      "     ------------- -------------------------- 2.6/7.6 MB 1.5 MB/s eta 0:00:04\n",
      "     -------------- ------------------------- 2.7/7.6 MB 1.4 MB/s eta 0:00:04\n",
      "     --------------- ------------------------ 2.9/7.6 MB 1.5 MB/s eta 0:00:04\n",
      "     --------------- ------------------------ 2.9/7.6 MB 1.5 MB/s eta 0:00:04\n",
      "     ---------------- ----------------------- 3.1/7.6 MB 1.5 MB/s eta 0:00:04\n",
      "     ---------------- ----------------------- 3.2/7.6 MB 1.5 MB/s eta 0:00:03\n",
      "     ---------------- ----------------------- 3.2/7.6 MB 1.5 MB/s eta 0:00:03\n",
      "     ----------------- ---------------------- 3.3/7.6 MB 1.5 MB/s eta 0:00:03\n",
      "     ----------------- ---------------------- 3.4/7.6 MB 1.6 MB/s eta 0:00:03\n",
      "     ------------------ --------------------- 3.5/7.6 MB 1.5 MB/s eta 0:00:03\n",
      "     ------------------- -------------------- 3.6/7.6 MB 1.6 MB/s eta 0:00:03\n",
      "     ------------------- -------------------- 3.7/7.6 MB 1.6 MB/s eta 0:00:03\n",
      "     -------------------- ------------------- 3.8/7.6 MB 1.6 MB/s eta 0:00:03\n",
      "     -------------------- ------------------- 4.0/7.6 MB 1.6 MB/s eta 0:00:03\n",
      "     --------------------- ------------------ 4.1/7.6 MB 1.7 MB/s eta 0:00:03\n",
      "     ---------------------- ----------------- 4.3/7.6 MB 1.7 MB/s eta 0:00:02\n",
      "     ---------------------- ----------------- 4.4/7.6 MB 1.7 MB/s eta 0:00:02\n",
      "     ----------------------- ---------------- 4.5/7.6 MB 1.7 MB/s eta 0:00:02\n",
      "     ------------------------ --------------- 4.7/7.6 MB 1.8 MB/s eta 0:00:02\n",
      "     ------------------------ --------------- 4.8/7.6 MB 1.8 MB/s eta 0:00:02\n",
      "     ------------------------- -------------- 4.9/7.6 MB 1.8 MB/s eta 0:00:02\n",
      "     -------------------------- ------------- 5.1/7.6 MB 1.9 MB/s eta 0:00:02\n",
      "     --------------------------- ------------ 5.2/7.6 MB 1.9 MB/s eta 0:00:02\n",
      "     ---------------------------- ----------- 5.4/7.6 MB 1.9 MB/s eta 0:00:02\n",
      "     ----------------------------- ---------- 5.6/7.6 MB 1.9 MB/s eta 0:00:02\n",
      "     ----------------------------- ---------- 5.6/7.6 MB 1.9 MB/s eta 0:00:02\n",
      "     ----------------------------- ---------- 5.6/7.6 MB 1.9 MB/s eta 0:00:02\n",
      "     ----------------------------- ---------- 5.6/7.6 MB 1.9 MB/s eta 0:00:02\n",
      "     ------------------------------ --------- 5.8/7.6 MB 1.9 MB/s eta 0:00:01\n",
      "     ------------------------------- -------- 6.0/7.6 MB 1.9 MB/s eta 0:00:01\n",
      "     ------------------------------- -------- 6.0/7.6 MB 1.9 MB/s eta 0:00:01\n",
      "     -------------------------------- ------- 6.2/7.6 MB 1.9 MB/s eta 0:00:01\n",
      "     -------------------------------- ------- 6.3/7.6 MB 1.9 MB/s eta 0:00:01\n",
      "     --------------------------------- ------ 6.3/7.6 MB 1.9 MB/s eta 0:00:01\n",
      "     ---------------------------------- ----- 6.6/7.6 MB 2.0 MB/s eta 0:00:01\n",
      "     ---------------------------------- ----- 6.6/7.6 MB 2.0 MB/s eta 0:00:01\n",
      "     ----------------------------------- ---- 6.7/7.6 MB 2.0 MB/s eta 0:00:01\n",
      "     ------------------------------------ --- 7.0/7.6 MB 2.0 MB/s eta 0:00:01\n",
      "     ------------------------------------ --- 7.0/7.6 MB 2.0 MB/s eta 0:00:01\n",
      "     ------------------------------------- -- 7.1/7.6 MB 2.0 MB/s eta 0:00:01\n",
      "     -------------------------------------- - 7.2/7.6 MB 2.0 MB/s eta 0:00:01\n",
      "     -------------------------------------- - 7.3/7.6 MB 2.0 MB/s eta 0:00:01\n",
      "     ---------------------------------------  7.5/7.6 MB 2.0 MB/s eta 0:00:01\n",
      "     ---------------------------------------  7.6/7.6 MB 2.1 MB/s eta 0:00:01\n",
      "     ---------------------------------------- 7.6/7.6 MB 2.0 MB/s eta 0:00:00\n",
      "Collecting imageio\n",
      "  Downloading imageio-2.30.0-py3-none-any.whl (312 kB)\n",
      "     ---------------------------------------- 0.0/312.7 kB ? eta -:--:--\n",
      "     - -------------------------------------- 10.2/312.7 kB ? eta -:--:--\n",
      "     ----------------------------- -------- 245.8/312.7 kB 3.8 MB/s eta 0:00:01\n",
      "     -------------------------------------- 312.7/312.7 kB 3.9 MB/s eta 0:00:00\n",
      "Collecting gdown\n",
      "  Using cached gdown-4.7.1-py3-none-any.whl (15 kB)\n",
      "Requirement already satisfied: numpy>=1.17.3 in c:\\users\\rohan\\anaconda3\\envs\\hgy\\lib\\site-packages (from opencv-python) (1.24.3)\n",
      "Collecting contourpy>=1.0.1\n",
      "  Downloading contourpy-1.0.7-cp310-cp310-win_amd64.whl (162 kB)\n",
      "     ---------------------------------------- 0.0/163.0 kB ? eta -:--:--\n",
      "     -- ------------------------------------- 10.2/163.0 kB ? eta -:--:--\n",
      "     ------ ------------------------------ 30.7/163.0 kB 325.1 kB/s eta 0:00:01\n",
      "     -------------------------------------- 163.0/163.0 kB 1.4 MB/s eta 0:00:00\n",
      "Collecting fonttools>=4.22.0\n",
      "  Using cached fonttools-4.39.4-py3-none-any.whl (1.0 MB)\n",
      "Requirement already satisfied: python-dateutil>=2.7 in c:\\users\\rohan\\anaconda3\\envs\\hgy\\lib\\site-packages (from matplotlib) (2.8.2)\n",
      "Collecting pyparsing>=2.3.1\n",
      "  Using cached pyparsing-3.0.9-py3-none-any.whl (98 kB)\n",
      "Requirement already satisfied: packaging>=20.0 in c:\\users\\rohan\\anaconda3\\envs\\hgy\\lib\\site-packages (from matplotlib) (23.0)\n",
      "Collecting pillow>=6.2.0\n",
      "  Downloading Pillow-9.5.0-cp310-cp310-win_amd64.whl (2.5 MB)\n",
      "     ---------------------------------------- 0.0/2.5 MB ? eta -:--:--\n",
      "      --------------------------------------- 0.0/2.5 MB ? eta -:--:--\n",
      "     ---- ----------------------------------- 0.3/2.5 MB 4.7 MB/s eta 0:00:01\n",
      "     -------- ------------------------------- 0.5/2.5 MB 4.7 MB/s eta 0:00:01\n",
      "     --------- ------------------------------ 0.6/2.5 MB 3.9 MB/s eta 0:00:01\n",
      "     ------------- -------------------------- 0.8/2.5 MB 4.4 MB/s eta 0:00:01\n",
      "     --------------- ------------------------ 1.0/2.5 MB 4.3 MB/s eta 0:00:01\n",
      "     ---------------- ----------------------- 1.0/2.5 MB 3.6 MB/s eta 0:00:01\n",
      "     ----------------- ---------------------- 1.1/2.5 MB 3.3 MB/s eta 0:00:01\n",
      "     ------------------- -------------------- 1.2/2.5 MB 3.5 MB/s eta 0:00:01\n",
      "     --------------------- ------------------ 1.4/2.5 MB 3.3 MB/s eta 0:00:01\n",
      "     ------------------------- -------------- 1.6/2.5 MB 3.6 MB/s eta 0:00:01\n",
      "     ---------------------------- ----------- 1.8/2.5 MB 3.8 MB/s eta 0:00:01\n",
      "     -------------------------------- ------- 2.0/2.5 MB 3.8 MB/s eta 0:00:01\n",
      "     ----------------------------------- ---- 2.2/2.5 MB 3.8 MB/s eta 0:00:01\n",
      "     ------------------------------------- -- 2.3/2.5 MB 3.7 MB/s eta 0:00:01\n",
      "     ---------------------------------------- 2.5/2.5 MB 3.7 MB/s eta 0:00:00\n",
      "Collecting kiwisolver>=1.0.1\n",
      "  Downloading kiwisolver-1.4.4-cp310-cp310-win_amd64.whl (55 kB)\n",
      "     ---------------------------------------- 0.0/55.3 kB ? eta -:--:--\n",
      "     ------------------------------------- -- 51.2/55.3 kB 2.7 MB/s eta 0:00:01\n",
      "     ---------------------------------------- 55.3/55.3 kB 3.0 MB/s eta 0:00:00\n",
      "Collecting cycler>=0.10\n",
      "  Using cached cycler-0.11.0-py3-none-any.whl (6.4 kB)\n",
      "Requirement already satisfied: six in c:\\users\\rohan\\anaconda3\\envs\\hgy\\lib\\site-packages (from gdown) (1.16.0)\n",
      "Requirement already satisfied: beautifulsoup4 in c:\\users\\rohan\\anaconda3\\envs\\hgy\\lib\\site-packages (from gdown) (4.12.2)\n",
      "Requirement already satisfied: requests[socks] in c:\\users\\rohan\\anaconda3\\envs\\hgy\\lib\\site-packages (from gdown) (2.29.0)\n",
      "Collecting filelock\n",
      "  Using cached filelock-3.12.0-py3-none-any.whl (10 kB)\n",
      "Collecting tqdm\n",
      "  Using cached tqdm-4.65.0-py3-none-any.whl (77 kB)\n",
      "Requirement already satisfied: soupsieve>1.2 in c:\\users\\rohan\\anaconda3\\envs\\hgy\\lib\\site-packages (from beautifulsoup4->gdown) (2.4)\n",
      "Requirement already satisfied: charset-normalizer<4,>=2 in c:\\users\\rohan\\anaconda3\\envs\\hgy\\lib\\site-packages (from requests[socks]->gdown) (2.0.4)\n",
      "Requirement already satisfied: urllib3<1.27,>=1.21.1 in c:\\users\\rohan\\anaconda3\\envs\\hgy\\lib\\site-packages (from requests[socks]->gdown) (1.26.15)\n",
      "Requirement already satisfied: certifi>=2017.4.17 in c:\\users\\rohan\\anaconda3\\envs\\hgy\\lib\\site-packages (from requests[socks]->gdown) (2023.5.7)\n",
      "Requirement already satisfied: idna<4,>=2.5 in c:\\users\\rohan\\anaconda3\\envs\\hgy\\lib\\site-packages (from requests[socks]->gdown) (3.4)\n",
      "Requirement already satisfied: PySocks!=1.5.7,>=1.5.6 in c:\\users\\rohan\\anaconda3\\envs\\hgy\\lib\\site-packages (from requests[socks]->gdown) (1.7.1)\n",
      "Requirement already satisfied: colorama in c:\\users\\rohan\\anaconda3\\envs\\hgy\\lib\\site-packages (from tqdm->gdown) (0.4.6)\n",
      "Installing collected packages: tqdm, pyparsing, pillow, opencv-python, kiwisolver, fonttools, filelock, cycler, contourpy, matplotlib, imageio, gdown\n",
      "Successfully installed contourpy-1.0.7 cycler-0.11.0 filelock-3.12.0 fonttools-4.39.4 gdown-4.7.1 imageio-2.30.0 kiwisolver-1.4.4 matplotlib-3.7.1 opencv-python-4.7.0.72 pillow-9.5.0 pyparsing-3.0.9 tqdm-4.65.0\n"
     ]
    }
   ],
   "source": [
    "!pip install opencv-python matplotlib imageio gdown \n"
   ]
  },
  {
   "cell_type": "code",
   "execution_count": 2,
   "id": "491fea6b-4f13-49a7-a39c-6c6ec7d2475c",
   "metadata": {
    "tags": []
   },
   "outputs": [],
   "source": [
    "import os\n",
    "import cv2\n",
    "import tensorflow as tf\n",
    "import numpy as np\n",
    "from typing import List\n",
    "from matplotlib import pyplot as plt\n",
    "import imageio\n"
   ]
  },
  {
   "cell_type": "code",
   "execution_count": 3,
   "id": "f929a06a-6cba-4ffd-85a0-14ed0ca3d071",
   "metadata": {},
   "outputs": [
    {
     "data": {
      "text/plain": [
       "[]"
      ]
     },
     "execution_count": 3,
     "metadata": {},
     "output_type": "execute_result"
    }
   ],
   "source": [
    "tf.config.list_physical_devices('GPU')"
   ]
  },
  {
   "cell_type": "code",
   "execution_count": 4,
   "id": "e83457e7-cc33-44d1-b35b-aa95bc6d9384",
   "metadata": {},
   "outputs": [],
   "source": [
    "import gdown\n"
   ]
  },
  {
   "cell_type": "code",
   "execution_count": 5,
   "id": "56266507-c9ad-4852-8f33-6e45a0071219",
   "metadata": {
    "collapsed": true,
    "jupyter": {
     "outputs_hidden": true
    },
    "tags": []
   },
   "outputs": [
    {
     "name": "stderr",
     "output_type": "stream",
     "text": [
      "Downloading...\n",
      "From (uriginal): https://drive.google.com/uc?id=1YlvpDLix3S-U8fd-gqRwPcWXAXm8JwjL\n",
      "From (redirected): https://drive.google.com/uc?id=1YlvpDLix3S-U8fd-gqRwPcWXAXm8JwjL&confirm=t&uuid=f0bf3d32-1f72-488d-bf9b-cc471c6f7fab\n",
      "To: C:\\coa\\data.zip\n",
      "100%|███████████████████████████████████████████████████████████████████████████████| 423M/423M [03:28<00:00, 2.03MB/s]\n"
     ]
    },
    {
     "data": {
      "text/plain": [
       "['data/',\n",
       " 'data/alignments/',\n",
       " 'data/alignments/s1/',\n",
       " 'data/alignments/s1/bbaf2n.align',\n",
       " 'data/alignments/s1/bbaf3s.align',\n",
       " 'data/alignments/s1/bbaf4p.align',\n",
       " 'data/alignments/s1/bbaf5a.align',\n",
       " 'data/alignments/s1/bbal6n.align',\n",
       " 'data/alignments/s1/bbal7s.align',\n",
       " 'data/alignments/s1/bbal8p.align',\n",
       " 'data/alignments/s1/bbal9a.align',\n",
       " 'data/alignments/s1/bbas1s.align',\n",
       " 'data/alignments/s1/bbas2p.align',\n",
       " 'data/alignments/s1/bbas3a.align',\n",
       " 'data/alignments/s1/bbaszn.align',\n",
       " 'data/alignments/s1/bbaz4n.align',\n",
       " 'data/alignments/s1/bbaz5s.align',\n",
       " 'data/alignments/s1/bbaz6p.align',\n",
       " 'data/alignments/s1/bbaz7a.align',\n",
       " 'data/alignments/s1/bbbf6n.align',\n",
       " 'data/alignments/s1/bbbf7s.align',\n",
       " 'data/alignments/s1/bbbf8p.align',\n",
       " 'data/alignments/s1/bbbf9a.align',\n",
       " 'data/alignments/s1/bbbm1s.align',\n",
       " 'data/alignments/s1/bbbm2p.align',\n",
       " 'data/alignments/s1/bbbm3a.align',\n",
       " 'data/alignments/s1/bbbmzn.align',\n",
       " 'data/alignments/s1/bbbs4n.align',\n",
       " 'data/alignments/s1/bbbs5s.align',\n",
       " 'data/alignments/s1/bbbs6p.align',\n",
       " 'data/alignments/s1/bbbs7a.align',\n",
       " 'data/alignments/s1/bbbz8n.align',\n",
       " 'data/alignments/s1/bbbz9s.align',\n",
       " 'data/alignments/s1/bbie8n.align',\n",
       " 'data/alignments/s1/bbie9s.align',\n",
       " 'data/alignments/s1/bbif1a.align',\n",
       " 'data/alignments/s1/bbifzp.align',\n",
       " 'data/alignments/s1/bbil2n.align',\n",
       " 'data/alignments/s1/bbil3s.align',\n",
       " 'data/alignments/s1/bbil4p.align',\n",
       " 'data/alignments/s1/bbil5a.align',\n",
       " 'data/alignments/s1/bbir6n.align',\n",
       " 'data/alignments/s1/bbir7s.align',\n",
       " 'data/alignments/s1/bbir8p.align',\n",
       " 'data/alignments/s1/bbir9a.align',\n",
       " 'data/alignments/s1/bbiz1s.align',\n",
       " 'data/alignments/s1/bbiz2p.align',\n",
       " 'data/alignments/s1/bbiz3a.align',\n",
       " 'data/alignments/s1/bbizzn.align',\n",
       " 'data/alignments/s1/bbwg1s.align',\n",
       " 'data/alignments/s1/bbwg2p.align',\n",
       " 'data/alignments/s1/bbwg3a.align',\n",
       " 'data/alignments/s1/bbwgzn.align',\n",
       " 'data/alignments/s1/bbwm4n.align',\n",
       " 'data/alignments/s1/bbwm5s.align',\n",
       " 'data/alignments/s1/bbwm6p.align',\n",
       " 'data/alignments/s1/bbwm7a.align',\n",
       " 'data/alignments/s1/bbws8n.align',\n",
       " 'data/alignments/s1/bbws9s.align',\n",
       " 'data/alignments/s1/bbwt1a.align',\n",
       " 'data/alignments/s1/bbwtzp.align',\n",
       " 'data/alignments/s1/bgaa6n.align',\n",
       " 'data/alignments/s1/bgaa7s.align',\n",
       " 'data/alignments/s1/bgaa8p.align',\n",
       " 'data/alignments/s1/bgaa9a.align',\n",
       " 'data/alignments/s1/bgah1s.align',\n",
       " 'data/alignments/s1/bgah2p.align',\n",
       " 'data/alignments/s1/bgah3a.align',\n",
       " 'data/alignments/s1/bgahzn.align',\n",
       " 'data/alignments/s1/bgan4n.align',\n",
       " 'data/alignments/s1/bgan5s.align',\n",
       " 'data/alignments/s1/bgan6p.align',\n",
       " 'data/alignments/s1/bgan7a.align',\n",
       " 'data/alignments/s1/bgat8n.align',\n",
       " 'data/alignments/s1/bgat9s.align',\n",
       " 'data/alignments/s1/bgau1a.align',\n",
       " 'data/alignments/s1/bgauzp.align',\n",
       " 'data/alignments/s1/bgbb1s.align',\n",
       " 'data/alignments/s1/bgbb2p.align',\n",
       " 'data/alignments/s1/bgbb3a.align',\n",
       " 'data/alignments/s1/bgbbzn.align',\n",
       " 'data/alignments/s1/bgbh4n.align',\n",
       " 'data/alignments/s1/bgbh5s.align',\n",
       " 'data/alignments/s1/bgbh6p.align',\n",
       " 'data/alignments/s1/bgbh7a.align',\n",
       " 'data/alignments/s1/bgbn8n.align',\n",
       " 'data/alignments/s1/bgbn9s.align',\n",
       " 'data/alignments/s1/bgbo1a.align',\n",
       " 'data/alignments/s1/bgbozp.align',\n",
       " 'data/alignments/s1/bgbu2n.align',\n",
       " 'data/alignments/s1/bgbu3s.align',\n",
       " 'data/alignments/s1/bgbu4p.align',\n",
       " 'data/alignments/s1/bgbu5a.align',\n",
       " 'data/alignments/s1/bgia2n.align',\n",
       " 'data/alignments/s1/bgia3s.align',\n",
       " 'data/alignments/s1/bgia4p.align',\n",
       " 'data/alignments/s1/bgia5a.align',\n",
       " 'data/alignments/s1/bgig6n.align',\n",
       " 'data/alignments/s1/bgig7s.align',\n",
       " 'data/alignments/s1/bgig8p.align',\n",
       " 'data/alignments/s1/bgig9a.align',\n",
       " 'data/alignments/s1/bgin1s.align',\n",
       " 'data/alignments/s1/bgin2p.align',\n",
       " 'data/alignments/s1/bgin3a.align',\n",
       " 'data/alignments/s1/bginzn.align',\n",
       " 'data/alignments/s1/bgit4n.align',\n",
       " 'data/alignments/s1/bgit5s.align',\n",
       " 'data/alignments/s1/bgit6p.align',\n",
       " 'data/alignments/s1/bgit7a.align',\n",
       " 'data/alignments/s1/bgwb4n.align',\n",
       " 'data/alignments/s1/bgwb5s.align',\n",
       " 'data/alignments/s1/bgwb6p.align',\n",
       " 'data/alignments/s1/bgwb7a.align',\n",
       " 'data/alignments/s1/bgwh8n.align',\n",
       " 'data/alignments/s1/bgwh9s.align',\n",
       " 'data/alignments/s1/bgwi1a.align',\n",
       " 'data/alignments/s1/bgwizp.align',\n",
       " 'data/alignments/s1/bgwo2n.align',\n",
       " 'data/alignments/s1/bgwo3s.align',\n",
       " 'data/alignments/s1/bgwo4p.align',\n",
       " 'data/alignments/s1/bgwo5a.align',\n",
       " 'data/alignments/s1/bgwu6n.align',\n",
       " 'data/alignments/s1/bgwu7s.align',\n",
       " 'data/alignments/s1/bgwu8p.align',\n",
       " 'data/alignments/s1/bgwu9a.align',\n",
       " 'data/alignments/s1/braf8n.align',\n",
       " 'data/alignments/s1/braf9s.align',\n",
       " 'data/alignments/s1/brag1a.align',\n",
       " 'data/alignments/s1/bragzp.align',\n",
       " 'data/alignments/s1/bram2n.align',\n",
       " 'data/alignments/s1/bram3s.align',\n",
       " 'data/alignments/s1/bram4p.align',\n",
       " 'data/alignments/s1/bram5a.align',\n",
       " 'data/alignments/s1/bras6n.align',\n",
       " 'data/alignments/s1/bras7s.align',\n",
       " 'data/alignments/s1/bras8p.align',\n",
       " 'data/alignments/s1/bras9a.align',\n",
       " 'data/alignments/s1/brba1a.align',\n",
       " 'data/alignments/s1/brbazp.align',\n",
       " 'data/alignments/s1/brbg2n.align',\n",
       " 'data/alignments/s1/brbg3s.align',\n",
       " 'data/alignments/s1/brbg4p.align',\n",
       " 'data/alignments/s1/brbg5a.align',\n",
       " 'data/alignments/s1/brbm6n.align',\n",
       " 'data/alignments/s1/brbm7s.align',\n",
       " 'data/alignments/s1/brbm8p.align',\n",
       " 'data/alignments/s1/brbm9a.align',\n",
       " 'data/alignments/s1/brbt1s.align',\n",
       " 'data/alignments/s1/brbt2p.align',\n",
       " 'data/alignments/s1/brbt3a.align',\n",
       " 'data/alignments/s1/brbtzn.align',\n",
       " 'data/alignments/s1/brif4n.align',\n",
       " 'data/alignments/s1/brif5s.align',\n",
       " 'data/alignments/s1/brif6p.align',\n",
       " 'data/alignments/s1/brif7a.align',\n",
       " 'data/alignments/s1/bril8n.align',\n",
       " 'data/alignments/s1/bril9s.align',\n",
       " 'data/alignments/s1/brim1a.align',\n",
       " 'data/alignments/s1/brimzp.align',\n",
       " 'data/alignments/s1/bris2n.align',\n",
       " 'data/alignments/s1/bris3s.align',\n",
       " 'data/alignments/s1/bris4p.align',\n",
       " 'data/alignments/s1/bris5a.align',\n",
       " 'data/alignments/s1/briz6n.align',\n",
       " 'data/alignments/s1/briz7s.align',\n",
       " 'data/alignments/s1/briz8p.align',\n",
       " 'data/alignments/s1/briz9a.align',\n",
       " 'data/alignments/s1/brwa2n.align',\n",
       " 'data/alignments/s1/brwa3s.align',\n",
       " 'data/alignments/s1/brwa4p.align',\n",
       " 'data/alignments/s1/brwa5a.align',\n",
       " 'data/alignments/s1/brwg6n.align',\n",
       " 'data/alignments/s1/brwg7s.align',\n",
       " 'data/alignments/s1/brwg8p.align',\n",
       " 'data/alignments/s1/brwg9a.align',\n",
       " 'data/alignments/s1/brwn1s.align',\n",
       " 'data/alignments/s1/brwn2p.align',\n",
       " 'data/alignments/s1/brwn3a.align',\n",
       " 'data/alignments/s1/brwnzn.align',\n",
       " 'data/alignments/s1/brwt4n.align',\n",
       " 'data/alignments/s1/brwt5s.align',\n",
       " 'data/alignments/s1/brwt6p.align',\n",
       " 'data/alignments/s1/brwt7a.align',\n",
       " 'data/alignments/s1/bwaa1s.align',\n",
       " 'data/alignments/s1/bwaa2p.align',\n",
       " 'data/alignments/s1/bwaa3a.align',\n",
       " 'data/alignments/s1/bwaazn.align',\n",
       " 'data/alignments/s1/bwag4n.align',\n",
       " 'data/alignments/s1/bwag5s.align',\n",
       " 'data/alignments/s1/bwag6p.align',\n",
       " 'data/alignments/s1/bwag7a.align',\n",
       " 'data/alignments/s1/bwam8n.align',\n",
       " 'data/alignments/s1/bwam9s.align',\n",
       " 'data/alignments/s1/bwan1a.align',\n",
       " 'data/alignments/s1/bwanzp.align',\n",
       " 'data/alignments/s1/bwat2n.align',\n",
       " 'data/alignments/s1/bwat3s.align',\n",
       " 'data/alignments/s1/bwat4p.align',\n",
       " 'data/alignments/s1/bwat5a.align',\n",
       " 'data/alignments/s1/bwba4n.align',\n",
       " 'data/alignments/s1/bwba5s.align',\n",
       " 'data/alignments/s1/bwba6p.align',\n",
       " 'data/alignments/s1/bwba7a.align',\n",
       " 'data/alignments/s1/bwbg8n.align',\n",
       " 'data/alignments/s1/bwbg9s.align',\n",
       " 'data/alignments/s1/bwbh1a.align',\n",
       " 'data/alignments/s1/bwbhzp.align',\n",
       " 'data/alignments/s1/bwbn2n.align',\n",
       " 'data/alignments/s1/bwbn3s.align',\n",
       " 'data/alignments/s1/bwbn4p.align',\n",
       " 'data/alignments/s1/bwbn5a.align',\n",
       " 'data/alignments/s1/bwbt6n.align',\n",
       " 'data/alignments/s1/bwbt7s.align',\n",
       " 'data/alignments/s1/bwbt8p.align',\n",
       " 'data/alignments/s1/bwbt9a.align',\n",
       " 'data/alignments/s1/bwig1s.align',\n",
       " 'data/alignments/s1/bwig2p.align',\n",
       " 'data/alignments/s1/bwig3a.align',\n",
       " 'data/alignments/s1/bwigzn.align',\n",
       " 'data/alignments/s1/bwim4n.align',\n",
       " 'data/alignments/s1/bwim5s.align',\n",
       " 'data/alignments/s1/bwim6p.align',\n",
       " 'data/alignments/s1/bwim7a.align',\n",
       " 'data/alignments/s1/bwis8n.align',\n",
       " 'data/alignments/s1/bwis9s.align',\n",
       " 'data/alignments/s1/bwit1a.align',\n",
       " 'data/alignments/s1/bwitzp.align',\n",
       " 'data/alignments/s1/bwwa8n.align',\n",
       " 'data/alignments/s1/bwwa9s.align',\n",
       " 'data/alignments/s1/bwwb1a.align',\n",
       " 'data/alignments/s1/bwwbzp.align',\n",
       " 'data/alignments/s1/bwwh2n.align',\n",
       " 'data/alignments/s1/bwwh3s.align',\n",
       " 'data/alignments/s1/bwwh4p.align',\n",
       " 'data/alignments/s1/bwwh5a.align',\n",
       " 'data/alignments/s1/bwwn6n.align',\n",
       " 'data/alignments/s1/bwwn7s.align',\n",
       " 'data/alignments/s1/bwwn8p.align',\n",
       " 'data/alignments/s1/bwwn9a.align',\n",
       " 'data/alignments/s1/bwwu1s.align',\n",
       " 'data/alignments/s1/bwwu2p.align',\n",
       " 'data/alignments/s1/bwwu3a.align',\n",
       " 'data/alignments/s1/bwwuzn.align',\n",
       " 'data/alignments/s1/lbad6n.align',\n",
       " 'data/alignments/s1/lbad7s.align',\n",
       " 'data/alignments/s1/lbad8p.align',\n",
       " 'data/alignments/s1/lbad9a.align',\n",
       " 'data/alignments/s1/lbak1s.align',\n",
       " 'data/alignments/s1/lbak2p.align',\n",
       " 'data/alignments/s1/lbak3a.align',\n",
       " 'data/alignments/s1/lbakzn.align',\n",
       " 'data/alignments/s1/lbaq4n.align',\n",
       " 'data/alignments/s1/lbaq5s.align',\n",
       " 'data/alignments/s1/lbaq6p.align',\n",
       " 'data/alignments/s1/lbaq7a.align',\n",
       " 'data/alignments/s1/lbax8n.align',\n",
       " 'data/alignments/s1/lbax9s.align',\n",
       " 'data/alignments/s1/lbay1a.align',\n",
       " 'data/alignments/s1/lbayzp.align',\n",
       " 'data/alignments/s1/lbbe1s.align',\n",
       " 'data/alignments/s1/lbbe2p.align',\n",
       " 'data/alignments/s1/lbbe3a.align',\n",
       " 'data/alignments/s1/lbbezn.align',\n",
       " 'data/alignments/s1/lbbk4n.align',\n",
       " 'data/alignments/s1/lbbk5s.align',\n",
       " 'data/alignments/s1/lbbk6p.align',\n",
       " 'data/alignments/s1/lbbk7a.align',\n",
       " 'data/alignments/s1/lbbq8n.align',\n",
       " 'data/alignments/s1/lbbq9s.align',\n",
       " 'data/alignments/s1/lbbr1a.align',\n",
       " 'data/alignments/s1/lbbrzp.align',\n",
       " 'data/alignments/s1/lbby2n.align',\n",
       " 'data/alignments/s1/lbby3s.align',\n",
       " 'data/alignments/s1/lbby4p.align',\n",
       " 'data/alignments/s1/lbby5a.align',\n",
       " 'data/alignments/s1/lbid2n.align',\n",
       " 'data/alignments/s1/lbid3s.align',\n",
       " 'data/alignments/s1/lbid4p.align',\n",
       " 'data/alignments/s1/lbid5a.align',\n",
       " 'data/alignments/s1/lbij6n.align',\n",
       " 'data/alignments/s1/lbij7s.align',\n",
       " 'data/alignments/s1/lbij8p.align',\n",
       " 'data/alignments/s1/lbij9a.align',\n",
       " 'data/alignments/s1/lbiq1s.align',\n",
       " 'data/alignments/s1/lbiq2p.align',\n",
       " 'data/alignments/s1/lbiq3a.align',\n",
       " 'data/alignments/s1/lbiqzn.align',\n",
       " 'data/alignments/s1/lbix4n.align',\n",
       " 'data/alignments/s1/lbix5s.align',\n",
       " 'data/alignments/s1/lbix6p.align',\n",
       " 'data/alignments/s1/lbix7a.align',\n",
       " 'data/alignments/s1/lbwe4n.align',\n",
       " 'data/alignments/s1/lbwe5s.align',\n",
       " 'data/alignments/s1/lbwe6p.align',\n",
       " 'data/alignments/s1/lbwe7a.align',\n",
       " 'data/alignments/s1/lbwk8n.align',\n",
       " 'data/alignments/s1/lbwk9s.align',\n",
       " 'data/alignments/s1/lbwl1a.align',\n",
       " 'data/alignments/s1/lbwlzp.align',\n",
       " 'data/alignments/s1/lbwr2n.align',\n",
       " 'data/alignments/s1/lbwr3s.align',\n",
       " 'data/alignments/s1/lbwr4p.align',\n",
       " 'data/alignments/s1/lbwr5a.align',\n",
       " 'data/alignments/s1/lbwy6n.align',\n",
       " 'data/alignments/s1/lbwy7s.align',\n",
       " 'data/alignments/s1/lbwy8p.align',\n",
       " 'data/alignments/s1/lbwy9a.align',\n",
       " 'data/alignments/s1/lgaf4n.align',\n",
       " 'data/alignments/s1/lgaf5s.align',\n",
       " 'data/alignments/s1/lgaf6p.align',\n",
       " 'data/alignments/s1/lgaf7a.align',\n",
       " 'data/alignments/s1/lgal8n.align',\n",
       " 'data/alignments/s1/lgal9s.align',\n",
       " 'data/alignments/s1/lgam1a.align',\n",
       " 'data/alignments/s1/lgamzp.align',\n",
       " 'data/alignments/s1/lgas2n.align',\n",
       " 'data/alignments/s1/lgas3s.align',\n",
       " 'data/alignments/s1/lgas4p.align',\n",
       " 'data/alignments/s1/lgas5a.align',\n",
       " 'data/alignments/s1/lgaz6n.align',\n",
       " 'data/alignments/s1/lgaz7s.align',\n",
       " 'data/alignments/s1/lgaz8p.align',\n",
       " 'data/alignments/s1/lgaz9a.align',\n",
       " 'data/alignments/s1/lgbf8n.align',\n",
       " 'data/alignments/s1/lgbf9s.align',\n",
       " 'data/alignments/s1/lgbg1a.align',\n",
       " 'data/alignments/s1/lgbgzp.align',\n",
       " 'data/alignments/s1/lgbm2n.align',\n",
       " 'data/alignments/s1/lgbm3s.align',\n",
       " 'data/alignments/s1/lgbm4p.align',\n",
       " 'data/alignments/s1/lgbm5a.align',\n",
       " 'data/alignments/s1/lgbs6n.align',\n",
       " 'data/alignments/s1/lgbs7s.align',\n",
       " 'data/alignments/s1/lgbs8p.align',\n",
       " 'data/alignments/s1/lgbs9a.align',\n",
       " 'data/alignments/s1/lgif1s.align',\n",
       " 'data/alignments/s1/lgif2p.align',\n",
       " 'data/alignments/s1/lgif3a.align',\n",
       " 'data/alignments/s1/lgifzn.align',\n",
       " 'data/alignments/s1/lgil4n.align',\n",
       " 'data/alignments/s1/lgil5s.align',\n",
       " 'data/alignments/s1/lgil6p.align',\n",
       " 'data/alignments/s1/lgil7a.align',\n",
       " 'data/alignments/s1/lgir8n.align',\n",
       " 'data/alignments/s1/lgir9s.align',\n",
       " 'data/alignments/s1/lgis1a.align',\n",
       " 'data/alignments/s1/lgiszp.align',\n",
       " 'data/alignments/s1/lgiz2n.align',\n",
       " 'data/alignments/s1/lgiz3s.align',\n",
       " 'data/alignments/s1/lgiz4p.align',\n",
       " 'data/alignments/s1/lgiz5a.align',\n",
       " 'data/alignments/s1/lgwa1a.align',\n",
       " 'data/alignments/s1/lgwazp.align',\n",
       " 'data/alignments/s1/lgwg2n.align',\n",
       " 'data/alignments/s1/lgwg3s.align',\n",
       " 'data/alignments/s1/lgwg4p.align',\n",
       " 'data/alignments/s1/lgwg5a.align',\n",
       " 'data/alignments/s1/lgwm6n.align',\n",
       " 'data/alignments/s1/lgwm7s.align',\n",
       " 'data/alignments/s1/lgwm8p.align',\n",
       " 'data/alignments/s1/lgwm9a.align',\n",
       " 'data/alignments/s1/lgwt1s.align',\n",
       " 'data/alignments/s1/lgwt2p.align',\n",
       " 'data/alignments/s1/lgwt3a.align',\n",
       " 'data/alignments/s1/lgwtzn.align',\n",
       " 'data/alignments/s1/lrae2n.align',\n",
       " 'data/alignments/s1/lrae3s.align',\n",
       " 'data/alignments/s1/lrae4p.align',\n",
       " 'data/alignments/s1/lrae5a.align',\n",
       " 'data/alignments/s1/lrak6n.align',\n",
       " 'data/alignments/s1/lrak7s.align',\n",
       " 'data/alignments/s1/lrak8p.align',\n",
       " 'data/alignments/s1/lrak9a.align',\n",
       " 'data/alignments/s1/lrar1s.align',\n",
       " 'data/alignments/s1/lrar2p.align',\n",
       " 'data/alignments/s1/lrar3a.align',\n",
       " 'data/alignments/s1/lrarzn.align',\n",
       " 'data/alignments/s1/lray4n.align',\n",
       " 'data/alignments/s1/lray5s.align',\n",
       " 'data/alignments/s1/lray6p.align',\n",
       " 'data/alignments/s1/lray7a.align',\n",
       " 'data/alignments/s1/lrbe6n.align',\n",
       " 'data/alignments/s1/lrbe7s.align',\n",
       " 'data/alignments/s1/lrbe8p.align',\n",
       " 'data/alignments/s1/lrbe9a.align',\n",
       " 'data/alignments/s1/lrbl1s.align',\n",
       " 'data/alignments/s1/lrbl2p.align',\n",
       " 'data/alignments/s1/lrbl3a.align',\n",
       " 'data/alignments/s1/lrblzn.align',\n",
       " 'data/alignments/s1/lrbr4n.align',\n",
       " 'data/alignments/s1/lrbr5s.align',\n",
       " 'data/alignments/s1/lrbr6p.align',\n",
       " 'data/alignments/s1/lrbr7a.align',\n",
       " 'data/alignments/s1/lrby8n.align',\n",
       " 'data/alignments/s1/lrby9s.align',\n",
       " 'data/alignments/s1/lrbz1a.align',\n",
       " 'data/alignments/s1/lrbzzp.align',\n",
       " 'data/alignments/s1/lrid8n.align',\n",
       " 'data/alignments/s1/lrid9s.align',\n",
       " 'data/alignments/s1/lrie1a.align',\n",
       " 'data/alignments/s1/lriezp.align',\n",
       " 'data/alignments/s1/lrik2n.align',\n",
       " 'data/alignments/s1/lrik3s.align',\n",
       " 'data/alignments/s1/lrik4p.align',\n",
       " 'data/alignments/s1/lrik5a.align',\n",
       " 'data/alignments/s1/lriq6n.align',\n",
       " 'data/alignments/s1/lriq7s.align',\n",
       " 'data/alignments/s1/lriq8p.align',\n",
       " 'data/alignments/s1/lriq9a.align',\n",
       " 'data/alignments/s1/lriy1s.align',\n",
       " 'data/alignments/s1/lriy2p.align',\n",
       " 'data/alignments/s1/lriy3a.align',\n",
       " 'data/alignments/s1/lriyzn.align',\n",
       " 'data/alignments/s1/lrwf1s.align',\n",
       " 'data/alignments/s1/lrwf2p.align',\n",
       " 'data/alignments/s1/lrwf3a.align',\n",
       " 'data/alignments/s1/lrwfzn.align',\n",
       " 'data/alignments/s1/lrwl4n.align',\n",
       " 'data/alignments/s1/lrwl5s.align',\n",
       " 'data/alignments/s1/lrwl6p.align',\n",
       " 'data/alignments/s1/lrwl7a.align',\n",
       " 'data/alignments/s1/lrwr8n.align',\n",
       " 'data/alignments/s1/lrwr9s.align',\n",
       " 'data/alignments/s1/lrws1a.align',\n",
       " 'data/alignments/s1/lrwszp.align',\n",
       " 'data/alignments/s1/lrwz2n.align',\n",
       " 'data/alignments/s1/lrwz3s.align',\n",
       " 'data/alignments/s1/lrwz4p.align',\n",
       " 'data/alignments/s1/lrwz5a.align',\n",
       " 'data/alignments/s1/lwae8n.align',\n",
       " 'data/alignments/s1/lwae9s.align',\n",
       " 'data/alignments/s1/lwaf1a.align',\n",
       " 'data/alignments/s1/lwafzp.align',\n",
       " 'data/alignments/s1/lwal2n.align',\n",
       " 'data/alignments/s1/lwal3s.align',\n",
       " 'data/alignments/s1/lwal4p.align',\n",
       " 'data/alignments/s1/lwal5a.align',\n",
       " 'data/alignments/s1/lwar6n.align',\n",
       " 'data/alignments/s1/lwar7s.align',\n",
       " 'data/alignments/s1/lwar8p.align',\n",
       " 'data/alignments/s1/lwar9a.align',\n",
       " 'data/alignments/s1/lwaz1s.align',\n",
       " 'data/alignments/s1/lwaz2p.align',\n",
       " 'data/alignments/s1/lwaz3a.align',\n",
       " 'data/alignments/s1/lwazzn.align',\n",
       " 'data/alignments/s1/lwbf2n.align',\n",
       " 'data/alignments/s1/lwbf3s.align',\n",
       " 'data/alignments/s1/lwbf4p.align',\n",
       " 'data/alignments/s1/lwbf5a.align',\n",
       " 'data/alignments/s1/lwbl6n.align',\n",
       " 'data/alignments/s1/lwbl7s.align',\n",
       " 'data/alignments/s1/lwbl8p.align',\n",
       " 'data/alignments/s1/lwbl9a.align',\n",
       " 'data/alignments/s1/lwbs1s.align',\n",
       " 'data/alignments/s1/lwbs2p.align',\n",
       " 'data/alignments/s1/lwbs3a.align',\n",
       " 'data/alignments/s1/lwbszn.align',\n",
       " 'data/alignments/s1/lwbz4n.align',\n",
       " 'data/alignments/s1/lwbz5s.align',\n",
       " 'data/alignments/s1/lwbz6p.align',\n",
       " 'data/alignments/s1/lwbz7a.align',\n",
       " 'data/alignments/s1/lwie4n.align',\n",
       " 'data/alignments/s1/lwie5s.align',\n",
       " 'data/alignments/s1/lwie6p.align',\n",
       " 'data/alignments/s1/lwie7a.align',\n",
       " 'data/alignments/s1/lwik8n.align',\n",
       " 'data/alignments/s1/lwik9s.align',\n",
       " 'data/alignments/s1/lwil1a.align',\n",
       " 'data/alignments/s1/lwilzp.align',\n",
       " 'data/alignments/s1/lwir2n.align',\n",
       " 'data/alignments/s1/lwir3s.align',\n",
       " 'data/alignments/s1/lwir4p.align',\n",
       " 'data/alignments/s1/lwir5a.align',\n",
       " 'data/alignments/s1/lwiy6n.align',\n",
       " 'data/alignments/s1/lwiy7s.align',\n",
       " 'data/alignments/s1/lwiy8p.align',\n",
       " 'data/alignments/s1/lwiy9a.align',\n",
       " 'data/alignments/s1/lwwf6n.align',\n",
       " 'data/alignments/s1/lwwf7s.align',\n",
       " 'data/alignments/s1/lwwf8p.align',\n",
       " 'data/alignments/s1/lwwf9a.align',\n",
       " 'data/alignments/s1/lwwm1s.align',\n",
       " 'data/alignments/s1/lwwm2p.align',\n",
       " 'data/alignments/s1/lwwm3a.align',\n",
       " 'data/alignments/s1/lwwmzn.align',\n",
       " 'data/alignments/s1/lwws4n.align',\n",
       " 'data/alignments/s1/lwws5s.align',\n",
       " 'data/alignments/s1/lwws6p.align',\n",
       " 'data/alignments/s1/lwws7a.align',\n",
       " 'data/alignments/s1/lwwz8n.align',\n",
       " 'data/alignments/s1/lwwz9s.align',\n",
       " 'data/alignments/s1/pbac1s.align',\n",
       " 'data/alignments/s1/pbac2p.align',\n",
       " 'data/alignments/s1/pbac3a.align',\n",
       " 'data/alignments/s1/pbaczn.align',\n",
       " 'data/alignments/s1/pbai4n.align',\n",
       " 'data/alignments/s1/pbai5s.align',\n",
       " 'data/alignments/s1/pbai6p.align',\n",
       " 'data/alignments/s1/pbai7a.align',\n",
       " 'data/alignments/s1/pbao8n.align',\n",
       " 'data/alignments/s1/pbao9s.align',\n",
       " 'data/alignments/s1/pbap1a.align',\n",
       " 'data/alignments/s1/pbapzp.align',\n",
       " 'data/alignments/s1/pbav2n.align',\n",
       " 'data/alignments/s1/pbav3s.align',\n",
       " 'data/alignments/s1/pbav4p.align',\n",
       " 'data/alignments/s1/pbav5a.align',\n",
       " 'data/alignments/s1/pbbc4n.align',\n",
       " 'data/alignments/s1/pbbc5s.align',\n",
       " 'data/alignments/s1/pbbc6p.align',\n",
       " 'data/alignments/s1/pbbc7a.align',\n",
       " 'data/alignments/s1/pbbi8n.align',\n",
       " 'data/alignments/s1/pbbi9s.align',\n",
       " 'data/alignments/s1/pbbj1a.align',\n",
       " 'data/alignments/s1/pbbjzp.align',\n",
       " 'data/alignments/s1/pbbp2n.align',\n",
       " 'data/alignments/s1/pbbp3s.align',\n",
       " 'data/alignments/s1/pbbp4p.align',\n",
       " 'data/alignments/s1/pbbp5a.align',\n",
       " 'data/alignments/s1/pbbv6n.align',\n",
       " 'data/alignments/s1/pbbv7s.align',\n",
       " 'data/alignments/s1/pbbv8p.align',\n",
       " 'data/alignments/s1/pbbv9a.align',\n",
       " 'data/alignments/s1/pbib6n.align',\n",
       " 'data/alignments/s1/pbib7s.align',\n",
       " 'data/alignments/s1/pbib8p.align',\n",
       " 'data/alignments/s1/pbib9a.align',\n",
       " 'data/alignments/s1/pbii1s.align',\n",
       " 'data/alignments/s1/pbii2p.align',\n",
       " 'data/alignments/s1/pbii3a.align',\n",
       " 'data/alignments/s1/pbiizn.align',\n",
       " 'data/alignments/s1/pbio4n.align',\n",
       " 'data/alignments/s1/pbio5s.align',\n",
       " 'data/alignments/s1/pbio6p.align',\n",
       " 'data/alignments/s1/pbio7a.align',\n",
       " 'data/alignments/s1/pbiu8n.align',\n",
       " 'data/alignments/s1/pbiu9s.align',\n",
       " 'data/alignments/s1/pbiv1a.align',\n",
       " 'data/alignments/s1/pbivzp.align',\n",
       " 'data/alignments/s1/pbwc8n.align',\n",
       " 'data/alignments/s1/pbwc9s.align',\n",
       " 'data/alignments/s1/pbwd1a.align',\n",
       " 'data/alignments/s1/pbwdzp.align',\n",
       " 'data/alignments/s1/pbwj2n.align',\n",
       " 'data/alignments/s1/pbwj3s.align',\n",
       " 'data/alignments/s1/pbwj4p.align',\n",
       " 'data/alignments/s1/pbwj5a.align',\n",
       " 'data/alignments/s1/pbwp6n.align',\n",
       " 'data/alignments/s1/pbwp7s.align',\n",
       " 'data/alignments/s1/pbwp8p.align',\n",
       " 'data/alignments/s1/pbwp9a.align',\n",
       " 'data/alignments/s1/pbwx1s.align',\n",
       " 'data/alignments/s1/pbwx2p.align',\n",
       " 'data/alignments/s1/pbwx3a.align',\n",
       " 'data/alignments/s1/pbwxzn.align',\n",
       " 'data/alignments/s1/pgad8n.align',\n",
       " 'data/alignments/s1/pgad9s.align',\n",
       " 'data/alignments/s1/pgae1a.align',\n",
       " 'data/alignments/s1/pgaezp.align',\n",
       " 'data/alignments/s1/pgak2n.align',\n",
       " 'data/alignments/s1/pgak3s.align',\n",
       " 'data/alignments/s1/pgak4p.align',\n",
       " 'data/alignments/s1/pgak5a.align',\n",
       " 'data/alignments/s1/pgaq6n.align',\n",
       " 'data/alignments/s1/pgaq7s.align',\n",
       " 'data/alignments/s1/pgaq8p.align',\n",
       " 'data/alignments/s1/pgaq9a.align',\n",
       " 'data/alignments/s1/pgay1s.align',\n",
       " 'data/alignments/s1/pgay2p.align',\n",
       " 'data/alignments/s1/pgay3a.align',\n",
       " 'data/alignments/s1/pgayzn.align',\n",
       " 'data/alignments/s1/pgbe2n.align',\n",
       " 'data/alignments/s1/pgbe3s.align',\n",
       " 'data/alignments/s1/pgbe4p.align',\n",
       " 'data/alignments/s1/pgbe5a.align',\n",
       " 'data/alignments/s1/pgbk6n.align',\n",
       " 'data/alignments/s1/pgbk7s.align',\n",
       " 'data/alignments/s1/pgbk8p.align',\n",
       " 'data/alignments/s1/pgbk9a.align',\n",
       " 'data/alignments/s1/pgbr1s.align',\n",
       " 'data/alignments/s1/pgbr2p.align',\n",
       " 'data/alignments/s1/pgbr3a.align',\n",
       " 'data/alignments/s1/pgbrzn.align',\n",
       " 'data/alignments/s1/pgby4n.align',\n",
       " 'data/alignments/s1/pgby5s.align',\n",
       " 'data/alignments/s1/pgby6p.align',\n",
       " 'data/alignments/s1/pgby7a.align',\n",
       " 'data/alignments/s1/pgid4n.align',\n",
       " 'data/alignments/s1/pgid5s.align',\n",
       " 'data/alignments/s1/pgid6p.align',\n",
       " 'data/alignments/s1/pgid7a.align',\n",
       " 'data/alignments/s1/pgij8n.align',\n",
       " 'data/alignments/s1/pgij9s.align',\n",
       " 'data/alignments/s1/pgik1a.align',\n",
       " 'data/alignments/s1/pgikzp.align',\n",
       " 'data/alignments/s1/pgiq2n.align',\n",
       " 'data/alignments/s1/pgiq3s.align',\n",
       " 'data/alignments/s1/pgiq4p.align',\n",
       " 'data/alignments/s1/pgiq5a.align',\n",
       " 'data/alignments/s1/pgix6n.align',\n",
       " 'data/alignments/s1/pgix7s.align',\n",
       " 'data/alignments/s1/pgix8p.align',\n",
       " 'data/alignments/s1/pgix9a.align',\n",
       " 'data/alignments/s1/pgwe6n.align',\n",
       " 'data/alignments/s1/pgwe7s.align',\n",
       " 'data/alignments/s1/pgwe8p.align',\n",
       " 'data/alignments/s1/pgwe9a.align',\n",
       " 'data/alignments/s1/pgwl1s.align',\n",
       " 'data/alignments/s1/pgwl2p.align',\n",
       " 'data/alignments/s1/pgwl3a.align',\n",
       " 'data/alignments/s1/pgwlzn.align',\n",
       " 'data/alignments/s1/pgwr4n.align',\n",
       " 'data/alignments/s1/pgwr5s.align',\n",
       " 'data/alignments/s1/pgwr6p.align',\n",
       " 'data/alignments/s1/pgwr7a.align',\n",
       " 'data/alignments/s1/pgwy8n.align',\n",
       " 'data/alignments/s1/pgwy9s.align',\n",
       " 'data/alignments/s1/pgwz1a.align',\n",
       " 'data/alignments/s1/pgwzzp.align',\n",
       " 'data/alignments/s1/prac6n.align',\n",
       " 'data/alignments/s1/prac7s.align',\n",
       " 'data/alignments/s1/prac8p.align',\n",
       " 'data/alignments/s1/prac9a.align',\n",
       " 'data/alignments/s1/praj1s.align',\n",
       " 'data/alignments/s1/praj2p.align',\n",
       " 'data/alignments/s1/praj3a.align',\n",
       " 'data/alignments/s1/prajzn.align',\n",
       " 'data/alignments/s1/prap4n.align',\n",
       " 'data/alignments/s1/prap5s.align',\n",
       " 'data/alignments/s1/prap6p.align',\n",
       " 'data/alignments/s1/prap7a.align',\n",
       " 'data/alignments/s1/prav8n.align',\n",
       " 'data/alignments/s1/prav9s.align',\n",
       " 'data/alignments/s1/prax1a.align',\n",
       " 'data/alignments/s1/praxzp.align',\n",
       " 'data/alignments/s1/prbd1s.align',\n",
       " 'data/alignments/s1/prbd2p.align',\n",
       " 'data/alignments/s1/prbd3a.align',\n",
       " 'data/alignments/s1/prbdzn.align',\n",
       " 'data/alignments/s1/prbj4n.align',\n",
       " 'data/alignments/s1/prbj5s.align',\n",
       " 'data/alignments/s1/prbj6p.align',\n",
       " 'data/alignments/s1/prbj7a.align',\n",
       " 'data/alignments/s1/prbp8n.align',\n",
       " 'data/alignments/s1/prbp9s.align',\n",
       " 'data/alignments/s1/prbq1a.align',\n",
       " 'data/alignments/s1/prbqzp.align',\n",
       " 'data/alignments/s1/prbx2n.align',\n",
       " 'data/alignments/s1/prbx3s.align',\n",
       " 'data/alignments/s1/prbx4p.align',\n",
       " 'data/alignments/s1/prbx5a.align',\n",
       " 'data/alignments/s1/pric2n.align',\n",
       " 'data/alignments/s1/pric3s.align',\n",
       " 'data/alignments/s1/pric4p.align',\n",
       " 'data/alignments/s1/pric5a.align',\n",
       " 'data/alignments/s1/prii6n.align',\n",
       " 'data/alignments/s1/prii7s.align',\n",
       " 'data/alignments/s1/prii8p.align',\n",
       " 'data/alignments/s1/prii9a.align',\n",
       " 'data/alignments/s1/prip1s.align',\n",
       " 'data/alignments/s1/prip2p.align',\n",
       " 'data/alignments/s1/prip3a.align',\n",
       " 'data/alignments/s1/pripzn.align',\n",
       " 'data/alignments/s1/priv4n.align',\n",
       " 'data/alignments/s1/priv5s.align',\n",
       " 'data/alignments/s1/priv6p.align',\n",
       " 'data/alignments/s1/priv7a.align',\n",
       " 'data/alignments/s1/prwd4n.align',\n",
       " 'data/alignments/s1/prwd5s.align',\n",
       " 'data/alignments/s1/prwd6p.align',\n",
       " 'data/alignments/s1/prwd7a.align',\n",
       " 'data/alignments/s1/prwj8n.align',\n",
       " 'data/alignments/s1/prwj9s.align',\n",
       " 'data/alignments/s1/prwk1a.align',\n",
       " 'data/alignments/s1/prwkzp.align',\n",
       " 'data/alignments/s1/prwq2n.align',\n",
       " 'data/alignments/s1/prwq3s.align',\n",
       " 'data/alignments/s1/prwq4p.align',\n",
       " 'data/alignments/s1/prwq5a.align',\n",
       " 'data/alignments/s1/prwx6n.align',\n",
       " 'data/alignments/s1/prwx7s.align',\n",
       " 'data/alignments/s1/prwx8p.align',\n",
       " 'data/alignments/s1/prwx9a.align',\n",
       " 'data/alignments/s1/pwad2n.align',\n",
       " 'data/alignments/s1/pwad3s.align',\n",
       " 'data/alignments/s1/pwad4p.align',\n",
       " 'data/alignments/s1/pwad5a.align',\n",
       " 'data/alignments/s1/pwaj6n.align',\n",
       " 'data/alignments/s1/pwaj7s.align',\n",
       " 'data/alignments/s1/pwaj8p.align',\n",
       " 'data/alignments/s1/pwaj9a.align',\n",
       " 'data/alignments/s1/pwaq1s.align',\n",
       " 'data/alignments/s1/pwaq2p.align',\n",
       " 'data/alignments/s1/pwaq3a.align',\n",
       " 'data/alignments/s1/pwaqzn.align',\n",
       " 'data/alignments/s1/pwax4n.align',\n",
       " 'data/alignments/s1/pwax5s.align',\n",
       " 'data/alignments/s1/pwax6p.align',\n",
       " 'data/alignments/s1/pwax7a.align',\n",
       " 'data/alignments/s1/pwbd6n.align',\n",
       " 'data/alignments/s1/pwbd7s.align',\n",
       " 'data/alignments/s1/pwbd8p.align',\n",
       " 'data/alignments/s1/pwbd9a.align',\n",
       " 'data/alignments/s1/pwbk1s.align',\n",
       " 'data/alignments/s1/pwbk2p.align',\n",
       " 'data/alignments/s1/pwbk3a.align',\n",
       " 'data/alignments/s1/pwbkzn.align',\n",
       " 'data/alignments/s1/pwbq4n.align',\n",
       " 'data/alignments/s1/pwbq5s.align',\n",
       " 'data/alignments/s1/pwbq6p.align',\n",
       " 'data/alignments/s1/pwbq7a.align',\n",
       " 'data/alignments/s1/pwbx8n.align',\n",
       " 'data/alignments/s1/pwbx9s.align',\n",
       " 'data/alignments/s1/pwby1a.align',\n",
       " 'data/alignments/s1/pwbyzp.align',\n",
       " 'data/alignments/s1/pwic8n.align',\n",
       " 'data/alignments/s1/pwic9s.align',\n",
       " 'data/alignments/s1/pwid1a.align',\n",
       " 'data/alignments/s1/pwidzp.align',\n",
       " 'data/alignments/s1/pwij2n.align',\n",
       " 'data/alignments/s1/pwij3s.align',\n",
       " 'data/alignments/s1/pwij4p.align',\n",
       " 'data/alignments/s1/pwij5a.align',\n",
       " 'data/alignments/s1/pwip6n.align',\n",
       " 'data/alignments/s1/pwip7s.align',\n",
       " 'data/alignments/s1/pwip8p.align',\n",
       " 'data/alignments/s1/pwip9a.align',\n",
       " 'data/alignments/s1/pwix1s.align',\n",
       " 'data/alignments/s1/pwix2p.align',\n",
       " 'data/alignments/s1/pwix3a.align',\n",
       " 'data/alignments/s1/pwixzn.align',\n",
       " 'data/alignments/s1/pwwe1s.align',\n",
       " 'data/alignments/s1/pwwe2p.align',\n",
       " 'data/alignments/s1/pwwe3a.align',\n",
       " 'data/alignments/s1/pwwezn.align',\n",
       " 'data/alignments/s1/pwwk4n.align',\n",
       " 'data/alignments/s1/pwwk5s.align',\n",
       " 'data/alignments/s1/pwwk6p.align',\n",
       " 'data/alignments/s1/pwwk7a.align',\n",
       " 'data/alignments/s1/pwwq8n.align',\n",
       " 'data/alignments/s1/pwwq9s.align',\n",
       " 'data/alignments/s1/pwwr1a.align',\n",
       " 'data/alignments/s1/pwwrzp.align',\n",
       " 'data/alignments/s1/pwwy2n.align',\n",
       " 'data/alignments/s1/pwwy3s.align',\n",
       " 'data/alignments/s1/pwwy4p.align',\n",
       " 'data/alignments/s1/pwwy5a.align',\n",
       " 'data/alignments/s1/sbaa4n.align',\n",
       " 'data/alignments/s1/sbaa5s.align',\n",
       " 'data/alignments/s1/sbaa6p.align',\n",
       " 'data/alignments/s1/sbaa7a.align',\n",
       " 'data/alignments/s1/sbag8n.align',\n",
       " 'data/alignments/s1/sbag9s.align',\n",
       " 'data/alignments/s1/sbah1a.align',\n",
       " 'data/alignments/s1/sbahzp.align',\n",
       " 'data/alignments/s1/sban2n.align',\n",
       " 'data/alignments/s1/sban3s.align',\n",
       " 'data/alignments/s1/sban4p.align',\n",
       " 'data/alignments/s1/sban5a.align',\n",
       " 'data/alignments/s1/sbat6n.align',\n",
       " 'data/alignments/s1/sbat7s.align',\n",
       " 'data/alignments/s1/sbat8p.align',\n",
       " 'data/alignments/s1/sbat9a.align',\n",
       " 'data/alignments/s1/sbba8n.align',\n",
       " 'data/alignments/s1/sbba9s.align',\n",
       " 'data/alignments/s1/sbbb1a.align',\n",
       " 'data/alignments/s1/sbbbzp.align',\n",
       " 'data/alignments/s1/sbbh2n.align',\n",
       " 'data/alignments/s1/sbbh3s.align',\n",
       " 'data/alignments/s1/sbbh4p.align',\n",
       " 'data/alignments/s1/sbbh5a.align',\n",
       " 'data/alignments/s1/sbbn6n.align',\n",
       " 'data/alignments/s1/sbbn7s.align',\n",
       " 'data/alignments/s1/sbbn8p.align',\n",
       " 'data/alignments/s1/sbbn9a.align',\n",
       " 'data/alignments/s1/sbbu1s.align',\n",
       " 'data/alignments/s1/sbbu2p.align',\n",
       " 'data/alignments/s1/sbbu3a.align',\n",
       " 'data/alignments/s1/sbbuzn.align',\n",
       " 'data/alignments/s1/sbia1s.align',\n",
       " 'data/alignments/s1/sbia2p.align',\n",
       " 'data/alignments/s1/sbia3a.align',\n",
       " 'data/alignments/s1/sbiazn.align',\n",
       " 'data/alignments/s1/sbig4n.align',\n",
       " 'data/alignments/s1/sbig5s.align',\n",
       " 'data/alignments/s1/sbig6p.align',\n",
       " 'data/alignments/s1/sbig7a.align',\n",
       " 'data/alignments/s1/sbim8n.align',\n",
       " 'data/alignments/s1/sbim9s.align',\n",
       " 'data/alignments/s1/sbin1a.align',\n",
       " 'data/alignments/s1/sbinzp.align',\n",
       " 'data/alignments/s1/sbit2n.align',\n",
       " 'data/alignments/s1/sbit3s.align',\n",
       " 'data/alignments/s1/sbit4p.align',\n",
       " 'data/alignments/s1/sbit5a.align',\n",
       " 'data/alignments/s1/sbwb2n.align',\n",
       " 'data/alignments/s1/sbwb3s.align',\n",
       " 'data/alignments/s1/sbwb4p.align',\n",
       " 'data/alignments/s1/sbwb5a.align',\n",
       " 'data/alignments/s1/sbwh6n.align',\n",
       " 'data/alignments/s1/sbwh7s.align',\n",
       " 'data/alignments/s1/sbwh8p.align',\n",
       " 'data/alignments/s1/sbwh9a.align',\n",
       " 'data/alignments/s1/sbwo1s.align',\n",
       " 'data/alignments/s1/sbwo2p.align',\n",
       " 'data/alignments/s1/sbwo3a.align',\n",
       " 'data/alignments/s1/sbwozn.align',\n",
       " 'data/alignments/s1/sbwu4n.align',\n",
       " 'data/alignments/s1/sbwu5s.align',\n",
       " 'data/alignments/s1/sbwu6p.align',\n",
       " 'data/alignments/s1/sbwu7a.align',\n",
       " 'data/alignments/s1/sgac2n.align',\n",
       " 'data/alignments/s1/sgac3s.align',\n",
       " 'data/alignments/s1/sgac4p.align',\n",
       " 'data/alignments/s1/sgac5a.align',\n",
       " 'data/alignments/s1/sgai6n.align',\n",
       " 'data/alignments/s1/sgai7s.align',\n",
       " 'data/alignments/s1/sgai8p.align',\n",
       " 'data/alignments/s1/sgai9a.align',\n",
       " 'data/alignments/s1/sgap1s.align',\n",
       " 'data/alignments/s1/sgap2p.align',\n",
       " 'data/alignments/s1/sgap3a.align',\n",
       " 'data/alignments/s1/sgapzn.align',\n",
       " 'data/alignments/s1/sgav4n.align',\n",
       " 'data/alignments/s1/sgav5s.align',\n",
       " 'data/alignments/s1/sgav6p.align',\n",
       " 'data/alignments/s1/sgav7a.align',\n",
       " 'data/alignments/s1/sgbc6n.align',\n",
       " 'data/alignments/s1/sgbc7s.align',\n",
       " 'data/alignments/s1/sgbc8p.align',\n",
       " 'data/alignments/s1/sgbc9a.align',\n",
       " 'data/alignments/s1/sgbj1s.align',\n",
       " 'data/alignments/s1/sgbj2p.align',\n",
       " 'data/alignments/s1/sgbj3a.align',\n",
       " 'data/alignments/s1/sgbjzn.align',\n",
       " 'data/alignments/s1/sgbp4n.align',\n",
       " 'data/alignments/s1/sgbp5s.align',\n",
       " 'data/alignments/s1/sgbp6p.align',\n",
       " 'data/alignments/s1/sgbp7a.align',\n",
       " 'data/alignments/s1/sgbv8n.align',\n",
       " 'data/alignments/s1/sgbv9s.align',\n",
       " 'data/alignments/s1/sgbx1a.align',\n",
       " 'data/alignments/s1/sgbxzp.align',\n",
       " 'data/alignments/s1/sgib8n.align',\n",
       " 'data/alignments/s1/sgib9s.align',\n",
       " 'data/alignments/s1/sgic1a.align',\n",
       " 'data/alignments/s1/sgiczp.align',\n",
       " 'data/alignments/s1/sgii2n.align',\n",
       " 'data/alignments/s1/sgii3s.align',\n",
       " 'data/alignments/s1/sgii4p.align',\n",
       " 'data/alignments/s1/sgii5a.align',\n",
       " 'data/alignments/s1/sgio6n.align',\n",
       " 'data/alignments/s1/sgio7s.align',\n",
       " 'data/alignments/s1/sgio8p.align',\n",
       " 'data/alignments/s1/sgio9a.align',\n",
       " 'data/alignments/s1/sgiv1s.align',\n",
       " 'data/alignments/s1/sgiv2p.align',\n",
       " 'data/alignments/s1/sgiv3a.align',\n",
       " 'data/alignments/s1/sgivzn.align',\n",
       " 'data/alignments/s1/sgwd1s.align',\n",
       " 'data/alignments/s1/sgwd2p.align',\n",
       " 'data/alignments/s1/sgwd3a.align',\n",
       " 'data/alignments/s1/sgwdzn.align',\n",
       " 'data/alignments/s1/sgwj4n.align',\n",
       " 'data/alignments/s1/sgwj5s.align',\n",
       " 'data/alignments/s1/sgwj6p.align',\n",
       " 'data/alignments/s1/sgwj7a.align',\n",
       " 'data/alignments/s1/sgwp8n.align',\n",
       " 'data/alignments/s1/sgwp9s.align',\n",
       " 'data/alignments/s1/sgwq1a.align',\n",
       " 'data/alignments/s1/sgwqzp.align',\n",
       " 'data/alignments/s1/sgwx2n.align',\n",
       " 'data/alignments/s1/sgwx3s.align',\n",
       " 'data/alignments/s1/sgwx4p.align',\n",
       " 'data/alignments/s1/sgwx5a.align',\n",
       " 'data/alignments/s1/srab1s.align',\n",
       " 'data/alignments/s1/srab2p.align',\n",
       " 'data/alignments/s1/srab3a.align',\n",
       " 'data/alignments/s1/srabzn.align',\n",
       " 'data/alignments/s1/srah4n.align',\n",
       " 'data/alignments/s1/srah5s.align',\n",
       " 'data/alignments/s1/srah6p.align',\n",
       " 'data/alignments/s1/srah7a.align',\n",
       " 'data/alignments/s1/sran8n.align',\n",
       " 'data/alignments/s1/sran9s.align',\n",
       " 'data/alignments/s1/srao1a.align',\n",
       " 'data/alignments/s1/sraozp.align',\n",
       " 'data/alignments/s1/srau2n.align',\n",
       " 'data/alignments/s1/srau3s.align',\n",
       " 'data/alignments/s1/srau4p.align',\n",
       " 'data/alignments/s1/srau5a.align',\n",
       " 'data/alignments/s1/srbb4n.align',\n",
       " 'data/alignments/s1/srbb5s.align',\n",
       " 'data/alignments/s1/srbb6p.align',\n",
       " 'data/alignments/s1/srbb7a.align',\n",
       " 'data/alignments/s1/srbh8n.align',\n",
       " 'data/alignments/s1/srbh9s.align',\n",
       " 'data/alignments/s1/srbi1a.align',\n",
       " 'data/alignments/s1/srbizp.align',\n",
       " 'data/alignments/s1/srbo2n.align',\n",
       " 'data/alignments/s1/srbo3s.align',\n",
       " 'data/alignments/s1/srbo4p.align',\n",
       " 'data/alignments/s1/srbo5a.align',\n",
       " 'data/alignments/s1/srbu6n.align',\n",
       " 'data/alignments/s1/srbu7s.align',\n",
       " 'data/alignments/s1/srbu8p.align',\n",
       " 'data/alignments/s1/srbu9a.align',\n",
       " 'data/alignments/s1/sria6n.align',\n",
       " 'data/alignments/s1/sria7s.align',\n",
       " 'data/alignments/s1/sria8p.align',\n",
       " 'data/alignments/s1/sria9a.align',\n",
       " 'data/alignments/s1/srih1s.align',\n",
       " 'data/alignments/s1/srih2p.align',\n",
       " 'data/alignments/s1/srih3a.align',\n",
       " 'data/alignments/s1/srihzn.align',\n",
       " 'data/alignments/s1/srin4n.align',\n",
       " 'data/alignments/s1/srin5s.align',\n",
       " 'data/alignments/s1/srin6p.align',\n",
       " 'data/alignments/s1/srin7a.align',\n",
       " 'data/alignments/s1/srit8n.align',\n",
       " 'data/alignments/s1/srit9s.align',\n",
       " 'data/alignments/s1/sriu1a.align',\n",
       " 'data/alignments/s1/sriuzp.align',\n",
       " 'data/alignments/s1/srwb8n.align',\n",
       " 'data/alignments/s1/srwb9s.align',\n",
       " 'data/alignments/s1/srwc1a.align',\n",
       " 'data/alignments/s1/srwczp.align',\n",
       " 'data/alignments/s1/srwi2n.align',\n",
       " 'data/alignments/s1/srwi3s.align',\n",
       " 'data/alignments/s1/srwi4p.align',\n",
       " 'data/alignments/s1/srwi5a.align',\n",
       " 'data/alignments/s1/srwo6n.align',\n",
       " 'data/alignments/s1/srwo7s.align',\n",
       " 'data/alignments/s1/srwo8p.align',\n",
       " 'data/alignments/s1/srwo9a.align',\n",
       " 'data/alignments/s1/srwv1s.align',\n",
       " 'data/alignments/s1/srwv2p.align',\n",
       " 'data/alignments/s1/srwv3a.align',\n",
       " 'data/alignments/s1/srwvzn.align',\n",
       " 'data/alignments/s1/swab6n.align',\n",
       " 'data/alignments/s1/swab7s.align',\n",
       " 'data/alignments/s1/swab8p.align',\n",
       " 'data/alignments/s1/swab9a.align',\n",
       " 'data/alignments/s1/swai1s.align',\n",
       " 'data/alignments/s1/swai2p.align',\n",
       " 'data/alignments/s1/swai3a.align',\n",
       " 'data/alignments/s1/swaizn.align',\n",
       " 'data/alignments/s1/swao4n.align',\n",
       " 'data/alignments/s1/swao5s.align',\n",
       " 'data/alignments/s1/swao6p.align',\n",
       " 'data/alignments/s1/swao7a.align',\n",
       " 'data/alignments/s1/swau8n.align',\n",
       " 'data/alignments/s1/swau9s.align',\n",
       " 'data/alignments/s1/swav1a.align',\n",
       " 'data/alignments/s1/swavzp.align',\n",
       " 'data/alignments/s1/swbc1s.align',\n",
       " 'data/alignments/s1/swbc2p.align',\n",
       " 'data/alignments/s1/swbc3a.align',\n",
       " 'data/alignments/s1/swbczn.align',\n",
       " 'data/alignments/s1/swbi4n.align',\n",
       " 'data/alignments/s1/swbi5s.align',\n",
       " 'data/alignments/s1/swbi6p.align',\n",
       " 'data/alignments/s1/swbi7a.align',\n",
       " 'data/alignments/s1/swbo8n.align',\n",
       " 'data/alignments/s1/swbo9s.align',\n",
       " 'data/alignments/s1/swbp1a.align',\n",
       " 'data/alignments/s1/swbpzp.align',\n",
       " 'data/alignments/s1/swbv2n.align',\n",
       " 'data/alignments/s1/swbv3s.align',\n",
       " 'data/alignments/s1/swbv4p.align',\n",
       " 'data/alignments/s1/swbv5a.align',\n",
       " 'data/alignments/s1/swib2n.align',\n",
       " 'data/alignments/s1/swib3s.align',\n",
       " 'data/alignments/s1/swib4p.align',\n",
       " 'data/alignments/s1/swib5a.align',\n",
       " 'data/alignments/s1/swih6n.align',\n",
       " 'data/alignments/s1/swih7s.align',\n",
       " 'data/alignments/s1/swih8p.align',\n",
       " 'data/alignments/s1/swih9a.align',\n",
       " 'data/alignments/s1/swio1s.align',\n",
       " 'data/alignments/s1/swio2p.align',\n",
       " 'data/alignments/s1/swio3a.align',\n",
       " 'data/alignments/s1/swiozn.align',\n",
       " 'data/alignments/s1/swiu4n.align',\n",
       " 'data/alignments/s1/swiu5s.align',\n",
       " 'data/alignments/s1/swiu6p.align',\n",
       " 'data/alignments/s1/swiu7a.align',\n",
       " 'data/alignments/s1/swwc4n.align',\n",
       " 'data/alignments/s1/swwc5s.align',\n",
       " 'data/alignments/s1/swwc6p.align',\n",
       " 'data/alignments/s1/swwc7a.align',\n",
       " 'data/alignments/s1/swwi8n.align',\n",
       " 'data/alignments/s1/swwi9s.align',\n",
       " 'data/alignments/s1/swwj1a.align',\n",
       " 'data/alignments/s1/swwjzp.align',\n",
       " 'data/alignments/s1/swwp2n.align',\n",
       " 'data/alignments/s1/swwp3s.align',\n",
       " 'data/alignments/s1/swwp4p.align',\n",
       " 'data/alignments/s1/swwp5a.align',\n",
       " 'data/alignments/s1/swwv6n.align',\n",
       " ...]"
      ]
     },
     "execution_count": 5,
     "metadata": {},
     "output_type": "execute_result"
    }
   ],
   "source": [
    "url = 'https://drive.google.com/uc?id=1YlvpDLix3S-U8fd-gqRwPcWXAXm8JwjL'\n",
    "output = 'data.zip'\n",
    "gdown.download(url, output, quiet=False)\n",
    "gdown.extractall('data.zip')"
   ]
  },
  {
   "cell_type": "code",
   "execution_count": 6,
   "id": "7dc66ca3-f3b0-4dcc-941e-a59f6b64b2b8",
   "metadata": {},
   "outputs": [],
   "source": [
    "def load_video(path:str) -> List[float]: \n",
    "\n",
    "    cap = cv2.VideoCapture(path)\n",
    "    frames = []\n",
    "    for _ in range(int(cap.get(cv2.CAP_PROP_FRAME_COUNT))): \n",
    "        ret, frame = cap.read()\n",
    "        frame = tf.image.rgb_to_grayscale(frame)\n",
    "        frames.append(frame[190:236,80:220,:])\n",
    "    cap.release()\n",
    "    \n",
    "    mean = tf.math.reduce_mean(frames)\n",
    "    std = tf.math.reduce_std(tf.cast(frames, tf.float32))\n",
    "    return tf.cast((frames - mean), tf.float32) / std"
   ]
  },
  {
   "cell_type": "code",
   "execution_count": 7,
   "id": "70c3f711-a7b0-4740-aec8-e2fd67e7e3a0",
   "metadata": {},
   "outputs": [],
   "source": [
    "vocab = [x for x in \"abcdefghijklmnopqrstuvwxyz'?!123456789 \"]"
   ]
  },
  {
   "cell_type": "code",
   "execution_count": 8,
   "id": "b661cb50-f32e-4751-a92b-dc4d018c61eb",
   "metadata": {},
   "outputs": [
    {
     "name": "stdout",
     "output_type": "stream",
     "text": [
      "The vocabulary is: ['', 'a', 'b', 'c', 'd', 'e', 'f', 'g', 'h', 'i', 'j', 'k', 'l', 'm', 'n', 'o', 'p', 'q', 'r', 's', 't', 'u', 'v', 'w', 'x', 'y', 'z', \"'\", '?', '!', '1', '2', '3', '4', '5', '6', '7', '8', '9', ' '] (size =40)\n"
     ]
    }
   ],
   "source": [
    "char_to_num = tf.keras.layers.StringLookup(vocabulary=vocab, oov_token=\"\")\n",
    "num_to_char = tf.keras.layers.StringLookup(\n",
    "    vocabulary=char_to_num.get_vocabulary(), oov_token=\"\", invert=True\n",
    ")\n",
    "\n",
    "print(\n",
    "    f\"The vocabulary is: {char_to_num.get_vocabulary()} \"\n",
    "    f\"(size ={char_to_num.vocabulary_size()})\"\n",
    ")"
   ]
  },
  {
   "cell_type": "code",
   "execution_count": 9,
   "id": "afc20fb2-6504-4b06-9447-cf88d8fdb053",
   "metadata": {
    "collapsed": true,
    "jupyter": {
     "outputs_hidden": true
    },
    "tags": []
   },
   "outputs": [
    {
     "data": {
      "text/plain": [
       "['',\n",
       " 'a',\n",
       " 'b',\n",
       " 'c',\n",
       " 'd',\n",
       " 'e',\n",
       " 'f',\n",
       " 'g',\n",
       " 'h',\n",
       " 'i',\n",
       " 'j',\n",
       " 'k',\n",
       " 'l',\n",
       " 'm',\n",
       " 'n',\n",
       " 'o',\n",
       " 'p',\n",
       " 'q',\n",
       " 'r',\n",
       " 's',\n",
       " 't',\n",
       " 'u',\n",
       " 'v',\n",
       " 'w',\n",
       " 'x',\n",
       " 'y',\n",
       " 'z',\n",
       " \"'\",\n",
       " '?',\n",
       " '!',\n",
       " '1',\n",
       " '2',\n",
       " '3',\n",
       " '4',\n",
       " '5',\n",
       " '6',\n",
       " '7',\n",
       " '8',\n",
       " '9',\n",
       " ' ']"
      ]
     },
     "execution_count": 9,
     "metadata": {},
     "output_type": "execute_result"
    }
   ],
   "source": [
    "char_to_num.get_vocabulary()"
   ]
  },
  {
   "cell_type": "code",
   "execution_count": 10,
   "id": "535fc58b-e025-45ad-bb79-b76721ed1f44",
   "metadata": {},
   "outputs": [
    {
     "data": {
      "text/plain": [
       "<tf.Tensor: shape=(4,), dtype=int64, numpy=array([14,  9,  3, 11], dtype=int64)>"
      ]
     },
     "execution_count": 10,
     "metadata": {},
     "output_type": "execute_result"
    }
   ],
   "source": [
    "char_to_num(['n','i','c','k'])\n"
   ]
  },
  {
   "cell_type": "code",
   "execution_count": 11,
   "id": "7d7971e4-11b8-481c-b1ef-f1cd760f7a79",
   "metadata": {},
   "outputs": [
    {
     "data": {
      "text/plain": [
       "<tf.Tensor: shape=(4,), dtype=string, numpy=array([b'n', b'i', b'c', b'k'], dtype=object)>"
      ]
     },
     "execution_count": 11,
     "metadata": {},
     "output_type": "execute_result"
    }
   ],
   "source": [
    "num_to_char([14,  9,  3, 11])\n"
   ]
  },
  {
   "cell_type": "code",
   "execution_count": 30,
   "id": "66ce162b-5434-46c0-bcf5-ae9fcaedf868",
   "metadata": {},
   "outputs": [],
   "source": [
    "def load_alignments(path:str) -> List[str]: \n",
    "    with open(path, 'r') as f: \n",
    "        lines = f.readlines() \n",
    "    tokens = []\n",
    "    for line in lines:\n",
    "        line = line.split()\n",
    "        if line[2] != 'sil': \n",
    "            tokens = [*tokens,' ',line[2]]\n",
    "    return char_to_num(tf.reshape(tf.strings.unicode_split(tokens, input_encoding='UTF-8'), (-1)))[1:]"
   ]
  },
  {
   "cell_type": "code",
   "execution_count": 31,
   "id": "29ef9264-6163-4b9e-9acd-295abfb158d0",
   "metadata": {},
   "outputs": [],
   "source": [
    "def load_data(path: str): \n",
    "    path = bytes.decode(path.numpy())\n",
    "    #file_name = path.split('/')[-1].split('.')[0]\n",
    "    # File name splitting for windows\n",
    "    file_name = path.split('\\\\')[-1].split('.')[0]\n",
    "    video_path = os.path.join('data','s1',f'{file_name}.mpg')\n",
    "    alignment_path = os.path.join('data','alignments','s1',f'{file_name}.align')\n",
    "    frames = load_video(video_path) \n",
    "    alignments = load_alignments(alignment_path)\n",
    "    \n",
    "    return frames, alignments"
   ]
  },
  {
   "cell_type": "code",
   "execution_count": 32,
   "id": "bf9a60d2-5402-432d-a5e8-1d5734e27317",
   "metadata": {},
   "outputs": [],
   "source": [
    "test_path = '.\\\\data\\\\s1\\\\bbal6n.mpg'"
   ]
  },
  {
   "cell_type": "code",
   "execution_count": 33,
   "id": "0e0d9757-397d-4a59-a18e-7616788a4d1f",
   "metadata": {},
   "outputs": [
    {
     "data": {
      "text/plain": [
       "'bbal6n'"
      ]
     },
     "execution_count": 33,
     "metadata": {},
     "output_type": "execute_result"
    }
   ],
   "source": [
    "tf.convert_to_tensor(test_path).numpy().decode('utf-8').split('\\\\')[-1].split('.')[0]"
   ]
  },
  {
   "cell_type": "code",
   "execution_count": 34,
   "id": "11d2b87e-7a5c-45d0-986e-6f2e82a1e5ac",
   "metadata": {},
   "outputs": [],
   "source": [
    "frames, alignments = load_data(tf.convert_to_tensor(test_path))"
   ]
  },
  {
   "cell_type": "code",
   "execution_count": 35,
   "id": "d6fb4e5e-9995-40b7-8acf-97e0d965524d",
   "metadata": {},
   "outputs": [
    {
     "data": {
      "text/plain": [
       "<matplotlib.image.AxesImage at 0x1fbe4f51d20>"
      ]
     },
     "execution_count": 35,
     "metadata": {},
     "output_type": "execute_result"
    },
    {
     "data": {
      "image/png": "[encoded data removed]",
      "text/plain": [
       "<Figure size 640x480 with 1 Axes>"
      ]
     },
     "metadata": {},
     "output_type": "display_data"
    }
   ],
   "source": [
    "plt.imshow(frames[40])\n"
   ]
  },
  {
   "cell_type": "code",
   "execution_count": 36,
   "id": "055354a1-1d5c-4e61-a8e1-3941586d8356",
   "metadata": {},
   "outputs": [
    {
     "data": {
      "text/plain": [
       "<tf.Tensor: shape=(21,), dtype=int64, numpy=\n",
       "array([ 2,  9, 14, 39,  2, 12, 21,  5, 39,  1, 20, 39, 12, 39, 19,  9, 24,\n",
       "       39, 14, 15, 23], dtype=int64)>"
      ]
     },
     "execution_count": 36,
     "metadata": {},
     "output_type": "execute_result"
    }
   ],
   "source": [
    "alignments"
   ]
  },
  {
   "cell_type": "code",
   "execution_count": 37,
   "id": "6893708a-77ed-4eef-9b5c-9ffeb2b370b0",
   "metadata": {},
   "outputs": [
    {
     "data": {
      "text/plain": [
       "<tf.Tensor: shape=(), dtype=string, numpy=b'bin blue at l six now'>"
      ]
     },
     "execution_count": 37,
     "metadata": {},
     "output_type": "execute_result"
    }
   ],
   "source": [
    "tf.strings.reduce_join([bytes.decode(x) for x in num_to_char(alignments.numpy()).numpy()])\n"
   ]
  },
  {
   "cell_type": "code",
   "execution_count": 38,
   "id": "42436101-5fb7-42f6-a58b-4bdfc7bb79ec",
   "metadata": {},
   "outputs": [],
   "source": [
    "def mappable_function(path:str) ->List[str]:\n",
    "    result = tf.py_function(load_data, [path], (tf.float32, tf.int64))\n",
    "    return result"
   ]
  },
  {
   "cell_type": "code",
   "execution_count": 39,
   "id": "e1e2c2e2-ad82-41b8-b948-707e7505c0fd",
   "metadata": {},
   "outputs": [],
   "source": [
    "data = tf.data.Dataset.list_files('./data/s1/*.mpg')\n",
    "data = data.shuffle(500, reshuffle_each_iteration=False)\n",
    "data = data.map(mappable_function)\n",
    "data = data.padded_batch(2, padded_shapes=([75,None,None,None],[40]))\n",
    "data = data.prefetch(tf.data.AUTOTUNE)\n",
    "# Added for split \n",
    "train = data.take(450)\n",
    "test = data.skip(450)"
   ]
  },
  {
   "cell_type": "code",
   "execution_count": 40,
   "id": "c1172911-0253-4f99-ba1c-05c30d98d716",
   "metadata": {},
   "outputs": [
    {
     "data": {
      "text/plain": [
       "50"
      ]
     },
     "execution_count": 40,
     "metadata": {},
     "output_type": "execute_result"
    }
   ],
   "source": [
    "len(test)\n"
   ]
  },
  {
   "cell_type": "code",
   "execution_count": 41,
   "id": "35563134-dc81-4edf-9d7b-68c4e88f44ad",
   "metadata": {},
   "outputs": [],
   "source": [
    "frames, alignments = data.as_numpy_iterator().next()\n"
   ]
  },
  {
   "cell_type": "code",
   "execution_count": 42,
   "id": "bde3650b-3c99-4c00-82a6-4fbe52507154",
   "metadata": {},
   "outputs": [
    {
     "data": {
      "text/plain": [
       "2"
      ]
     },
     "execution_count": 42,
     "metadata": {},
     "output_type": "execute_result"
    }
   ],
   "source": [
    "len(frames)\n"
   ]
  },
  {
   "cell_type": "code",
   "execution_count": 43,
   "id": "4664cd57-1892-408a-994e-a562f202e6e1",
   "metadata": {},
   "outputs": [],
   "source": [
    "sample = data.as_numpy_iterator()\n"
   ]
  },
  {
   "cell_type": "code",
   "execution_count": 44,
   "id": "8accee65-cff7-4230-ae76-1ff5dc56f0e2",
   "metadata": {
    "collapsed": true,
    "jupyter": {
     "outputs_hidden": true
    },
    "tags": []
   },
   "outputs": [
    {
     "data": {
      "text/plain": [
       "array([[[[[ 1.2842339 ],\n",
       "          [ 1.2039692 ],\n",
       "          [ 0.8427785 ],\n",
       "          ...,\n",
       "          [ 0.32105848],\n",
       "          [ 0.24079385],\n",
       "          [ 0.24079385]],\n",
       "\n",
       "         [[ 1.0033077 ],\n",
       "          [ 1.2842339 ],\n",
       "          [ 0.9631754 ],\n",
       "          ...,\n",
       "          [ 0.32105848],\n",
       "          [ 0.24079385],\n",
       "          [ 0.24079385]],\n",
       "\n",
       "         [[ 1.4046308 ],\n",
       "          [ 1.4046308 ],\n",
       "          [ 1.163837  ],\n",
       "          ...,\n",
       "          [ 0.28092617],\n",
       "          [ 0.28092617],\n",
       "          [ 0.28092617]],\n",
       "\n",
       "         ...,\n",
       "\n",
       "         [[ 1.2039692 ],\n",
       "          [ 1.1237047 ],\n",
       "          [ 1.1237047 ],\n",
       "          ...,\n",
       "          [ 0.        ],\n",
       "          [ 0.        ],\n",
       "          [ 0.        ]],\n",
       "\n",
       "         [[ 1.1237047 ],\n",
       "          [ 1.1237047 ],\n",
       "          [ 1.1237047 ],\n",
       "          ...,\n",
       "          [10.233739  ],\n",
       "          [10.233739  ],\n",
       "          [10.233739  ]],\n",
       "\n",
       "         [[ 1.1237047 ],\n",
       "          [ 1.1237047 ],\n",
       "          [ 1.1237047 ],\n",
       "          ...,\n",
       "          [10.233739  ],\n",
       "          [10.233739  ],\n",
       "          [10.233739  ]]],\n",
       "\n",
       "\n",
       "        [[[ 1.3243662 ],\n",
       "          [ 1.3243662 ],\n",
       "          [ 0.8829108 ],\n",
       "          ...,\n",
       "          [ 0.20066154],\n",
       "          [ 0.20066154],\n",
       "          [ 0.20066154]],\n",
       "\n",
       "         [[ 1.0835724 ],\n",
       "          [ 1.1237047 ],\n",
       "          [ 0.8427785 ],\n",
       "          ...,\n",
       "          [ 0.20066154],\n",
       "          [ 0.20066154],\n",
       "          [ 0.20066154]],\n",
       "\n",
       "         [[ 1.4848955 ],\n",
       "          [ 1.4848955 ],\n",
       "          [ 1.3644985 ],\n",
       "          ...,\n",
       "          [ 0.20066154],\n",
       "          [ 0.28092617],\n",
       "          [ 0.28092617]],\n",
       "\n",
       "         ...,\n",
       "\n",
       "         [[ 1.1237047 ],\n",
       "          [ 1.0835724 ],\n",
       "          [ 1.0835724 ],\n",
       "          ...,\n",
       "          [ 0.        ],\n",
       "          [ 0.        ],\n",
       "          [ 0.        ]],\n",
       "\n",
       "         [[ 1.0835724 ],\n",
       "          [ 1.0835724 ],\n",
       "          [ 1.0835724 ],\n",
       "          ...,\n",
       "          [10.193606  ],\n",
       "          [10.193606  ],\n",
       "          [10.193606  ]],\n",
       "\n",
       "         [[ 1.0835724 ],\n",
       "          [ 1.0835724 ],\n",
       "          [ 1.0835724 ],\n",
       "          ...,\n",
       "          [10.193606  ],\n",
       "          [10.193606  ],\n",
       "          [10.193606  ]]],\n",
       "\n",
       "\n",
       "        [[[ 1.4046308 ],\n",
       "          [ 1.4447631 ],\n",
       "          [ 0.8829108 ],\n",
       "          ...,\n",
       "          [ 0.20066154],\n",
       "          [ 0.20066154],\n",
       "          [ 0.20066154]],\n",
       "\n",
       "         [[ 1.3243662 ],\n",
       "          [ 1.3243662 ],\n",
       "          [ 0.8427785 ],\n",
       "          ...,\n",
       "          [ 0.20066154],\n",
       "          [ 0.20066154],\n",
       "          [ 0.20066154]],\n",
       "\n",
       "         [[ 1.4046308 ],\n",
       "          [ 1.4046308 ],\n",
       "          [ 1.3644985 ],\n",
       "          ...,\n",
       "          [ 0.20066154],\n",
       "          [ 0.28092617],\n",
       "          [ 0.28092617]],\n",
       "\n",
       "         ...,\n",
       "\n",
       "         [[ 1.1237047 ],\n",
       "          [ 1.04344   ],\n",
       "          [ 1.04344   ],\n",
       "          ...,\n",
       "          [ 0.04013231],\n",
       "          [ 0.        ],\n",
       "          [ 0.        ]],\n",
       "\n",
       "         [[ 1.0835724 ],\n",
       "          [ 1.0835724 ],\n",
       "          [ 1.04344   ],\n",
       "          ...,\n",
       "          [10.233739  ],\n",
       "          [10.193606  ],\n",
       "          [10.193606  ]],\n",
       "\n",
       "         [[ 1.0835724 ],\n",
       "          [ 1.0835724 ],\n",
       "          [ 1.04344   ],\n",
       "          ...,\n",
       "          [10.233739  ],\n",
       "          [10.193606  ],\n",
       "          [10.193606  ]]],\n",
       "\n",
       "\n",
       "        ...,\n",
       "\n",
       "\n",
       "        [[[ 1.2441015 ],\n",
       "          [ 1.2842339 ],\n",
       "          [ 0.64211696],\n",
       "          ...,\n",
       "          [ 0.20066154],\n",
       "          [ 0.20066154],\n",
       "          [ 0.20066154]],\n",
       "\n",
       "         [[ 1.1237047 ],\n",
       "          [ 1.163837  ],\n",
       "          [ 0.56185234],\n",
       "          ...,\n",
       "          [ 0.20066154],\n",
       "          [ 0.20066154],\n",
       "          [ 0.20066154]],\n",
       "\n",
       "         [[ 1.4447631 ],\n",
       "          [ 1.4447631 ],\n",
       "          [ 1.2039692 ],\n",
       "          ...,\n",
       "          [ 0.32105848],\n",
       "          [ 0.28092617],\n",
       "          [ 0.20066154]],\n",
       "\n",
       "         ...,\n",
       "\n",
       "         [[ 1.1237047 ],\n",
       "          [ 1.1237047 ],\n",
       "          [ 1.1237047 ],\n",
       "          ...,\n",
       "          [10.233739  ],\n",
       "          [10.233739  ],\n",
       "          [10.233739  ]],\n",
       "\n",
       "         [[ 1.1237047 ],\n",
       "          [ 1.1237047 ],\n",
       "          [ 1.1237047 ],\n",
       "          ...,\n",
       "          [10.233739  ],\n",
       "          [10.233739  ],\n",
       "          [10.193606  ]],\n",
       "\n",
       "         [[ 1.1237047 ],\n",
       "          [ 1.1237047 ],\n",
       "          [ 1.0835724 ],\n",
       "          ...,\n",
       "          [10.233739  ],\n",
       "          [10.193606  ],\n",
       "          [10.193606  ]]],\n",
       "\n",
       "\n",
       "        [[[ 1.2842339 ],\n",
       "          [ 1.3243662 ],\n",
       "          [ 0.68224925],\n",
       "          ...,\n",
       "          [ 0.16052924],\n",
       "          [ 0.16052924],\n",
       "          [ 0.16052924]],\n",
       "\n",
       "         [[ 1.2039692 ],\n",
       "          [ 1.2842339 ],\n",
       "          [ 0.4815877 ],\n",
       "          ...,\n",
       "          [ 0.16052924],\n",
       "          [ 0.16052924],\n",
       "          [ 0.16052924]],\n",
       "\n",
       "         [[ 1.4447631 ],\n",
       "          [ 1.4447631 ],\n",
       "          [ 1.2441015 ],\n",
       "          ...,\n",
       "          [ 0.28092617],\n",
       "          [ 0.28092617],\n",
       "          [ 0.20066154]],\n",
       "\n",
       "         ...,\n",
       "\n",
       "         [[ 1.04344   ],\n",
       "          [ 1.04344   ],\n",
       "          [ 1.0835724 ],\n",
       "          ...,\n",
       "          [10.233739  ],\n",
       "          [10.233739  ],\n",
       "          [10.233739  ]],\n",
       "\n",
       "         [[ 1.04344   ],\n",
       "          [ 1.04344   ],\n",
       "          [ 1.0835724 ],\n",
       "          ...,\n",
       "          [10.233739  ],\n",
       "          [10.233739  ],\n",
       "          [10.233739  ]],\n",
       "\n",
       "         [[ 1.04344   ],\n",
       "          [ 1.04344   ],\n",
       "          [ 1.04344   ],\n",
       "          ...,\n",
       "          [10.233739  ],\n",
       "          [10.233739  ],\n",
       "          [10.193606  ]]],\n",
       "\n",
       "\n",
       "        [[[ 1.2039692 ],\n",
       "          [ 1.163837  ],\n",
       "          [ 0.68224925],\n",
       "          ...,\n",
       "          [ 0.24079385],\n",
       "          [ 0.24079385],\n",
       "          [ 0.24079385]],\n",
       "\n",
       "         [[ 1.04344   ],\n",
       "          [ 1.1237047 ],\n",
       "          [ 0.56185234],\n",
       "          ...,\n",
       "          [ 0.24079385],\n",
       "          [ 0.24079385],\n",
       "          [ 0.24079385]],\n",
       "\n",
       "         [[ 1.4447631 ],\n",
       "          [ 1.4046308 ],\n",
       "          [ 1.2039692 ],\n",
       "          ...,\n",
       "          [ 0.28092617],\n",
       "          [ 0.28092617],\n",
       "          [ 0.20066154]],\n",
       "\n",
       "         ...,\n",
       "\n",
       "         [[ 1.04344   ],\n",
       "          [ 1.04344   ],\n",
       "          [ 1.0835724 ],\n",
       "          ...,\n",
       "          [10.233739  ],\n",
       "          [10.233739  ],\n",
       "          [10.233739  ]],\n",
       "\n",
       "         [[ 1.04344   ],\n",
       "          [ 1.04344   ],\n",
       "          [ 1.0835724 ],\n",
       "          ...,\n",
       "          [10.233739  ],\n",
       "          [10.233739  ],\n",
       "          [10.233739  ]],\n",
       "\n",
       "         [[ 1.04344   ],\n",
       "          [ 1.04344   ],\n",
       "          [ 1.0835724 ],\n",
       "          ...,\n",
       "          [10.233739  ],\n",
       "          [10.233739  ],\n",
       "          [10.193606  ]]]],\n",
       "\n",
       "\n",
       "\n",
       "       [[[[ 1.2974032 ],\n",
       "          [ 1.2974032 ],\n",
       "          [ 1.2974032 ],\n",
       "          ...,\n",
       "          [ 9.6322365 ],\n",
       "          [ 9.710867  ],\n",
       "          [ 9.396344  ]],\n",
       "\n",
       "         [[ 1.2974032 ],\n",
       "          [ 1.2974032 ],\n",
       "          [ 1.2974032 ],\n",
       "          ...,\n",
       "          [ 8.845931  ],\n",
       "          [ 9.2783985 ],\n",
       "          [ 9.43566   ]],\n",
       "\n",
       "         [[ 1.2974032 ],\n",
       "          [ 1.2974032 ],\n",
       "          [ 1.2974032 ],\n",
       "          ...,\n",
       "          [ 9.553606  ],\n",
       "          [ 9.789497  ],\n",
       "          [ 9.828813  ]],\n",
       "\n",
       "         ...,\n",
       "\n",
       "         [[ 0.90425074],\n",
       "          [ 0.90425074],\n",
       "          [ 0.90425074],\n",
       "          ...,\n",
       "          [ 9.868128  ],\n",
       "          [ 9.868128  ],\n",
       "          [ 9.907443  ]],\n",
       "\n",
       "         [[ 0.90425074],\n",
       "          [ 0.90425074],\n",
       "          [ 0.90425074],\n",
       "          ...,\n",
       "          [ 9.868128  ],\n",
       "          [ 9.828813  ],\n",
       "          [ 9.828813  ]],\n",
       "\n",
       "         [[ 0.90425074],\n",
       "          [ 0.90425074],\n",
       "          [ 0.90425074],\n",
       "          ...,\n",
       "          [ 9.868128  ],\n",
       "          [ 9.828813  ],\n",
       "          [ 9.828813  ]]],\n",
       "\n",
       "\n",
       "        [[[ 1.2974032 ],\n",
       "          [ 1.2974032 ],\n",
       "          [ 1.2974032 ],\n",
       "          ...,\n",
       "          [ 9.789497  ],\n",
       "          [ 9.671552  ],\n",
       "          [ 9.2783985 ]],\n",
       "\n",
       "         [[ 1.2974032 ],\n",
       "          [ 1.2974032 ],\n",
       "          [ 1.2974032 ],\n",
       "          ...,\n",
       "          [ 8.845931  ],\n",
       "          [ 9.081822  ],\n",
       "          [ 9.357029  ]],\n",
       "\n",
       "         [[ 1.3760338 ],\n",
       "          [ 1.3760338 ],\n",
       "          [ 1.2974032 ],\n",
       "          ...,\n",
       "          [ 9.553606  ],\n",
       "          [ 9.828813  ],\n",
       "          [ 9.868128  ]],\n",
       "\n",
       "         ...,\n",
       "\n",
       "         [[ 0.90425074],\n",
       "          [ 0.90425074],\n",
       "          [ 0.90425074],\n",
       "          ...,\n",
       "          [ 9.868128  ],\n",
       "          [ 9.789497  ],\n",
       "          [ 9.828813  ]],\n",
       "\n",
       "         [[ 0.90425074],\n",
       "          [ 0.90425074],\n",
       "          [ 0.90425074],\n",
       "          ...,\n",
       "          [ 9.828813  ],\n",
       "          [ 9.750182  ],\n",
       "          [ 9.750182  ]],\n",
       "\n",
       "         [[ 0.90425074],\n",
       "          [ 0.90425074],\n",
       "          [ 0.90425074],\n",
       "          ...,\n",
       "          [ 9.828813  ],\n",
       "          [ 9.750182  ],\n",
       "          [ 9.750182  ]]],\n",
       "\n",
       "\n",
       "        [[[ 1.2974032 ],\n",
       "          [ 1.2974032 ],\n",
       "          [ 1.2974032 ],\n",
       "          ...,\n",
       "          [ 9.789497  ],\n",
       "          [ 9.6322365 ],\n",
       "          [ 9.357029  ]],\n",
       "\n",
       "         [[ 1.2974032 ],\n",
       "          [ 1.2974032 ],\n",
       "          [ 1.2974032 ],\n",
       "          ...,\n",
       "          [ 8.845931  ],\n",
       "          [ 9.160453  ],\n",
       "          [ 9.2783985 ]],\n",
       "\n",
       "         [[ 1.2974032 ],\n",
       "          [ 1.2974032 ],\n",
       "          [ 1.2974032 ],\n",
       "          ...,\n",
       "          [ 9.592921  ],\n",
       "          [ 9.828813  ],\n",
       "          [ 9.828813  ]],\n",
       "\n",
       "         ...,\n",
       "\n",
       "         [[ 0.8649355 ],\n",
       "          [ 0.8649355 ],\n",
       "          [ 0.90425074],\n",
       "          ...,\n",
       "          [ 9.907443  ],\n",
       "          [ 9.789497  ],\n",
       "          [ 9.828813  ]],\n",
       "\n",
       "         [[ 0.8649355 ],\n",
       "          [ 0.8649355 ],\n",
       "          [ 0.90425074],\n",
       "          ...,\n",
       "          [ 9.868128  ],\n",
       "          [ 9.828813  ],\n",
       "          [ 9.828813  ]],\n",
       "\n",
       "         [[ 0.8649355 ],\n",
       "          [ 0.8649355 ],\n",
       "          [ 0.90425074],\n",
       "          ...,\n",
       "          [ 9.868128  ],\n",
       "          [ 9.828813  ],\n",
       "          [ 9.828813  ]]],\n",
       "\n",
       "\n",
       "        ...,\n",
       "\n",
       "\n",
       "        [[[ 1.415349  ],\n",
       "          [ 1.415349  ],\n",
       "          [ 1.3760338 ],\n",
       "          ...,\n",
       "          [ 9.710867  ],\n",
       "          [ 9.592921  ],\n",
       "          [ 9.396344  ]],\n",
       "\n",
       "         [[ 1.415349  ],\n",
       "          [ 1.415349  ],\n",
       "          [ 1.3760338 ],\n",
       "          ...,\n",
       "          [ 8.68867   ],\n",
       "          [ 9.396344  ],\n",
       "          [ 9.6322365 ]],\n",
       "\n",
       "         [[ 1.2974032 ],\n",
       "          [ 1.2974032 ],\n",
       "          [ 1.2974032 ],\n",
       "          ...,\n",
       "          [ 9.514291  ],\n",
       "          [ 9.868128  ],\n",
       "          [ 9.868128  ]],\n",
       "\n",
       "         ...,\n",
       "\n",
       "         [[ 0.90425074],\n",
       "          [ 0.90425074],\n",
       "          [ 0.90425074],\n",
       "          ...,\n",
       "          [ 9.789497  ],\n",
       "          [ 9.789497  ],\n",
       "          [ 9.789497  ]],\n",
       "\n",
       "         [[ 0.90425074],\n",
       "          [ 0.90425074],\n",
       "          [ 0.90425074],\n",
       "          ...,\n",
       "          [ 9.828813  ],\n",
       "          [ 9.789497  ],\n",
       "          [ 9.789497  ]],\n",
       "\n",
       "         [[ 0.90425074],\n",
       "          [ 0.90425074],\n",
       "          [ 0.8649355 ],\n",
       "          ...,\n",
       "          [ 9.828813  ],\n",
       "          [ 9.789497  ],\n",
       "          [ 9.789497  ]]],\n",
       "\n",
       "\n",
       "        [[[ 1.3760338 ],\n",
       "          [ 1.3760338 ],\n",
       "          [ 1.3760338 ],\n",
       "          ...,\n",
       "          [ 9.6322365 ],\n",
       "          [ 9.553606  ],\n",
       "          [ 9.396344  ]],\n",
       "\n",
       "         [[ 1.3760338 ],\n",
       "          [ 1.3760338 ],\n",
       "          [ 1.3760338 ],\n",
       "          ...,\n",
       "          [ 8.68867   ],\n",
       "          [ 9.43566   ],\n",
       "          [ 9.43566   ]],\n",
       "\n",
       "         [[ 1.2187728 ],\n",
       "          [ 1.2187728 ],\n",
       "          [ 1.2187728 ],\n",
       "          ...,\n",
       "          [ 9.553606  ],\n",
       "          [ 9.907443  ],\n",
       "          [ 9.907443  ]],\n",
       "\n",
       "         ...,\n",
       "\n",
       "         [[ 0.90425074],\n",
       "          [ 0.90425074],\n",
       "          [ 0.90425074],\n",
       "          ...,\n",
       "          [ 9.907443  ],\n",
       "          [ 9.868128  ],\n",
       "          [ 9.868128  ]],\n",
       "\n",
       "         [[ 0.90425074],\n",
       "          [ 0.90425074],\n",
       "          [ 0.90425074],\n",
       "          ...,\n",
       "          [ 9.868128  ],\n",
       "          [ 9.828813  ],\n",
       "          [ 9.828813  ]],\n",
       "\n",
       "         [[ 0.90425074],\n",
       "          [ 0.90425074],\n",
       "          [ 0.8649355 ],\n",
       "          ...,\n",
       "          [ 9.868128  ],\n",
       "          [ 9.828813  ],\n",
       "          [ 9.828813  ]]],\n",
       "\n",
       "\n",
       "        [[[ 1.2974032 ],\n",
       "          [ 1.2974032 ],\n",
       "          [ 1.258088  ],\n",
       "          ...,\n",
       "          [ 9.592921  ],\n",
       "          [ 9.592921  ],\n",
       "          [ 9.592921  ]],\n",
       "\n",
       "         [[ 1.2974032 ],\n",
       "          [ 1.258088  ],\n",
       "          [ 1.2187728 ],\n",
       "          ...,\n",
       "          [ 8.61004   ],\n",
       "          [ 9.6322365 ],\n",
       "          [ 9.514291  ]],\n",
       "\n",
       "         [[ 1.2974032 ],\n",
       "          [ 1.2974032 ],\n",
       "          [ 1.2974032 ],\n",
       "          ...,\n",
       "          [ 9.6322365 ],\n",
       "          [ 9.946758  ],\n",
       "          [ 9.946758  ]],\n",
       "\n",
       "         ...,\n",
       "\n",
       "         [[ 0.90425074],\n",
       "          [ 0.90425074],\n",
       "          [ 0.90425074],\n",
       "          ...,\n",
       "          [ 9.907443  ],\n",
       "          [ 9.868128  ],\n",
       "          [ 9.868128  ]],\n",
       "\n",
       "         [[ 0.90425074],\n",
       "          [ 0.90425074],\n",
       "          [ 0.90425074],\n",
       "          ...,\n",
       "          [ 9.828813  ],\n",
       "          [ 9.828813  ],\n",
       "          [ 9.828813  ]],\n",
       "\n",
       "         [[ 0.90425074],\n",
       "          [ 0.90425074],\n",
       "          [ 0.8649355 ],\n",
       "          ...,\n",
       "          [ 9.828813  ],\n",
       "          [ 9.828813  ],\n",
       "          [ 9.828813  ]]]]], dtype=float32)"
      ]
     },
     "execution_count": 44,
     "metadata": {},
     "output_type": "execute_result"
    }
   ],
   "source": [
    "val = sample.next(); val[0]\n"
   ]
  },
  {
   "cell_type": "code",
   "execution_count": 46,
   "id": "45ad3287-98db-4966-b8f0-9c4a50efe7f2",
   "metadata": {},
   "outputs": [],
   "source": [
    "import imageio"
   ]
  },
  {
   "cell_type": "code",
   "execution_count": 51,
   "id": "52873be4-a3b1-4544-beb7-926a95106bcb",
   "metadata": {
    "collapsed": true,
    "jupyter": {
     "outputs_hidden": true
    },
    "tags": []
   },
   "outputs": [
    {
     "ename": "TypeError",
     "evalue": "The keyword `fps` is no longer supported. Use `duration`(in ms) instead, e.g. `fps=50` == `duration=20` (1000 * 1/50).",
     "output_type": "error",
     "traceback": [
      "\u001b[1;31m---------------------------------------------------------------------------\u001b[0m",
      "\u001b[1;31mTypeError\u001b[0m                                 Traceback (most recent call last)",
      "Cell \u001b[1;32mIn[51], line 1\u001b[0m\n\u001b[1;32m----> 1\u001b[0m \u001b[43mimageio\u001b[49m\u001b[38;5;241;43m.\u001b[39;49m\u001b[43mmimsave\u001b[49m\u001b[43m(\u001b[49m\u001b[38;5;124;43m'\u001b[39;49m\u001b[38;5;124;43m./animation.gif\u001b[39;49m\u001b[38;5;124;43m'\u001b[39;49m\u001b[43m,\u001b[49m\u001b[43m \u001b[49m\u001b[43mval\u001b[49m\u001b[43m[\u001b[49m\u001b[38;5;241;43m0\u001b[39;49m\u001b[43m]\u001b[49m\u001b[43m[\u001b[49m\u001b[38;5;241;43m0\u001b[39;49m\u001b[43m]\u001b[49m\u001b[43m,\u001b[49m\u001b[43m \u001b[49m\u001b[43mfps\u001b[49m\u001b[38;5;241;43m=\u001b[39;49m\u001b[38;5;241;43m10\u001b[39;49m\u001b[43m)\u001b[49m\n",
      "File \u001b[1;32m~\\anaconda3\\envs\\hgy\\lib\\site-packages\\imageio\\v2.py:484\u001b[0m, in \u001b[0;36mmimwrite\u001b[1;34m(uri, ims, format, **kwargs)\u001b[0m\n\u001b[0;32m    482\u001b[0m imopen_args[\u001b[38;5;124m\"\u001b[39m\u001b[38;5;124mlegacy_mode\u001b[39m\u001b[38;5;124m\"\u001b[39m] \u001b[38;5;241m=\u001b[39m \u001b[38;5;28;01mTrue\u001b[39;00m\n\u001b[0;32m    483\u001b[0m \u001b[38;5;28;01mwith\u001b[39;00m imopen(uri, \u001b[38;5;124m\"\u001b[39m\u001b[38;5;124mwI\u001b[39m\u001b[38;5;124m\"\u001b[39m, \u001b[38;5;241m*\u001b[39m\u001b[38;5;241m*\u001b[39mimopen_args) \u001b[38;5;28;01mas\u001b[39;00m file:\n\u001b[1;32m--> 484\u001b[0m     \u001b[38;5;28;01mreturn\u001b[39;00m file\u001b[38;5;241m.\u001b[39mwrite(ims, is_batch\u001b[38;5;241m=\u001b[39m\u001b[38;5;28;01mTrue\u001b[39;00m, \u001b[38;5;241m*\u001b[39m\u001b[38;5;241m*\u001b[39mkwargs)\n",
      "File \u001b[1;32m~\\anaconda3\\envs\\hgy\\lib\\site-packages\\imageio\\plugins\\pillow.py:354\u001b[0m, in \u001b[0;36mPillowPlugin.write\u001b[1;34m(self, ndimage, mode, format, is_batch, **kwargs)\u001b[0m\n\u001b[0;32m    308\u001b[0m \u001b[38;5;250m\u001b[39m\u001b[38;5;124;03m\"\"\"\u001b[39;00m\n\u001b[0;32m    309\u001b[0m \u001b[38;5;124;03mWrite an ndimage to the URI specified in path.\u001b[39;00m\n\u001b[0;32m    310\u001b[0m \n\u001b[1;32m   (...)\u001b[0m\n\u001b[0;32m    351\u001b[0m \n\u001b[0;32m    352\u001b[0m \u001b[38;5;124;03m\"\"\"\u001b[39;00m\n\u001b[0;32m    353\u001b[0m \u001b[38;5;28;01mif\u001b[39;00m \u001b[38;5;124m\"\u001b[39m\u001b[38;5;124mfps\u001b[39m\u001b[38;5;124m\"\u001b[39m \u001b[38;5;129;01min\u001b[39;00m kwargs:\n\u001b[1;32m--> 354\u001b[0m     \u001b[38;5;28;01mraise\u001b[39;00m \u001b[38;5;167;01mTypeError\u001b[39;00m(\n\u001b[0;32m    355\u001b[0m         \u001b[38;5;124m\"\u001b[39m\u001b[38;5;124mThe keyword `fps` is no longer supported. Use `duration`\u001b[39m\u001b[38;5;124m\"\u001b[39m\n\u001b[0;32m    356\u001b[0m         \u001b[38;5;124m\"\u001b[39m\u001b[38;5;124m(in ms) instead, e.g. `fps=50` == `duration=20` (1000 * 1/50).\u001b[39m\u001b[38;5;124m\"\u001b[39m\n\u001b[0;32m    357\u001b[0m     )\n\u001b[0;32m    359\u001b[0m \u001b[38;5;28;01mif\u001b[39;00m \u001b[38;5;28misinstance\u001b[39m(ndimage, \u001b[38;5;28mlist\u001b[39m):\n\u001b[0;32m    360\u001b[0m     ndimage \u001b[38;5;241m=\u001b[39m np\u001b[38;5;241m.\u001b[39mstack(ndimage, axis\u001b[38;5;241m=\u001b[39m\u001b[38;5;241m0\u001b[39m)\n",
      "\u001b[1;31mTypeError\u001b[0m: The keyword `fps` is no longer supported. Use `duration`(in ms) instead, e.g. `fps=50` == `duration=20` (1000 * 1/50)."
     ]
    }
   ],
   "source": [
    "imageio.mimsave('./animation.gif', val[0][0], fps=10)"
   ]
  },
  {
   "cell_type": "code",
   "execution_count": 49,
   "id": "bfe7d1be-49f4-4820-b7c3-4573cd3caf2f",
   "metadata": {},
   "outputs": [
    {
     "data": {
      "text/plain": [
       "<matplotlib.image.AxesImage at 0x1fbe3801720>"
      ]
     },
     "execution_count": 49,
     "metadata": {},
     "output_type": "execute_result"
    },
    {
     "data": {
      "image/png": "[encoded data removed]",
      "text/plain": [
       "<Figure size 640x480 with 1 Axes>"
      ]
     },
     "metadata": {},
     "output_type": "display_data"
    }
   ],
   "source": [
    "plt.imshow(val[0][0][35])\n"
   ]
  },
  {
   "cell_type": "code",
   "execution_count": 52,
   "id": "544bf70a-a701-43eb-960b-374a654bd69e",
   "metadata": {},
   "outputs": [
    {
     "data": {
      "text/plain": [
       "<tf.Tensor: shape=(), dtype=string, numpy=b'lay red in k two now'>"
      ]
     },
     "execution_count": 52,
     "metadata": {},
     "output_type": "execute_result"
    }
   ],
   "source": [
    "tf.strings.reduce_join([num_to_char(word) for word in val[1][0]])\n"
   ]
  },
  {
   "cell_type": "code",
   "execution_count": 53,
   "id": "7ae7347d-9e5d-4927-a9ce-c88626f727a5",
   "metadata": {},
   "outputs": [],
   "source": [
    "from tensorflow.keras.models import Sequential \n",
    "from tensorflow.keras.layers import Conv3D, LSTM, Dense, Dropout, Bidirectional, MaxPool3D, Activation, Reshape, SpatialDropout3D, BatchNormalization, TimeDistributed, Flatten\n",
    "from tensorflow.keras.optimizers import Adam\n",
    "from tensorflow.keras.callbacks import ModelCheckpoint, LearningRateScheduler"
   ]
  },
  {
   "cell_type": "code",
   "execution_count": 54,
   "id": "dfe3bb93-a379-4cdb-9746-feb6df7b9f25",
   "metadata": {},
   "outputs": [
    {
     "data": {
      "text/plain": [
       "(75, 46, 140, 1)"
      ]
     },
     "execution_count": 54,
     "metadata": {},
     "output_type": "execute_result"
    }
   ],
   "source": [
    "data.as_numpy_iterator().next()[0][0].shape\n"
   ]
  },
  {
   "cell_type": "code",
   "execution_count": 55,
   "id": "83d6fe98-a5d0-413a-9dbe-1f92ff082de8",
   "metadata": {},
   "outputs": [],
   "source": [
    "model = Sequential()\n",
    "model.add(Conv3D(128, 3, input_shape=(75,46,140,1), padding='same'))\n",
    "model.add(Activation('relu'))\n",
    "model.add(MaxPool3D((1,2,2)))\n",
    "\n",
    "model.add(Conv3D(256, 3, padding='same'))\n",
    "model.add(Activation('relu'))\n",
    "model.add(MaxPool3D((1,2,2)))\n",
    "\n",
    "model.add(Conv3D(75, 3, padding='same'))\n",
    "model.add(Activation('relu'))\n",
    "model.add(MaxPool3D((1,2,2)))\n",
    "\n",
    "model.add(TimeDistributed(Flatten()))\n",
    "\n",
    "model.add(Bidirectional(LSTM(128, kernel_initializer='Orthogonal', return_sequences=True)))\n",
    "model.add(Dropout(.5))\n",
    "\n",
    "model.add(Bidirectional(LSTM(128, kernel_initializer='Orthogonal', return_sequences=True)))\n",
    "model.add(Dropout(.5))\n",
    "\n",
    "model.add(Dense(char_to_num.vocabulary_size()+1, kernel_initializer='he_normal', activation='softmax'))"
   ]
  },
  {
   "cell_type": "code",
   "execution_count": 56,
   "id": "52ff9791-4b53-4512-bd3b-96bd690b5f2d",
   "metadata": {},
   "outputs": [
    {
     "name": "stdout",
     "output_type": "stream",
     "text": [
      "Model: \"sequential\"\n",
      "_________________________________________________________________\n",
      " Layer (type)                Output Shape              Param #   \n",
      "=================================================================\n",
      " conv3d (Conv3D)             (None, 75, 46, 140, 128)  3584      \n",
      "                                                                 \n",
      " activation (Activation)     (None, 75, 46, 140, 128)  0         \n",
      "                                                                 \n",
      " max_pooling3d (MaxPooling3D  (None, 75, 23, 70, 128)  0         \n",
      " )                                                               \n",
      "                                                                 \n",
      " conv3d_1 (Conv3D)           (None, 75, 23, 70, 256)   884992    \n",
      "                                                                 \n",
      " activation_1 (Activation)   (None, 75, 23, 70, 256)   0         \n",
      "                                                                 \n",
      " max_pooling3d_1 (MaxPooling  (None, 75, 11, 35, 256)  0         \n",
      " 3D)                                                             \n",
      "                                                                 \n",
      " conv3d_2 (Conv3D)           (None, 75, 11, 35, 75)    518475    \n",
      "                                                                 \n",
      " activation_2 (Activation)   (None, 75, 11, 35, 75)    0         \n",
      "                                                                 \n",
      " max_pooling3d_2 (MaxPooling  (None, 75, 5, 17, 75)    0         \n",
      " 3D)                                                             \n",
      "                                                                 \n",
      " time_distributed (TimeDistr  (None, 75, 6375)         0         \n",
      " ibuted)                                                         \n",
      "                                                                 \n",
      " bidirectional (Bidirectiona  (None, 75, 256)          6660096   \n",
      " l)                                                              \n",
      "                                                                 \n",
      " dropout (Dropout)           (None, 75, 256)           0         \n",
      "                                                                 \n",
      " bidirectional_1 (Bidirectio  (None, 75, 256)          394240    \n",
      " nal)                                                            \n",
      "                                                                 \n",
      " dropout_1 (Dropout)         (None, 75, 256)           0         \n",
      "                                                                 \n",
      " dense (Dense)               (None, 75, 41)            10537     \n",
      "                                                                 \n",
      "=================================================================\n",
      "Total params: 8,471,924\n",
      "Trainable params: 8,471,924\n",
      "Non-trainable params: 0\n",
      "_________________________________________________________________\n"
     ]
    }
   ],
   "source": [
    "model.summary()\n"
   ]
  },
  {
   "cell_type": "code",
   "execution_count": 57,
   "id": "4da4c3a2-6b0e-4a58-920b-ee00c65e5d93",
   "metadata": {},
   "outputs": [
    {
     "data": {
      "text/plain": [
       "6375"
      ]
     },
     "execution_count": 57,
     "metadata": {},
     "output_type": "execute_result"
    }
   ],
   "source": [
    "5*17*75\n"
   ]
  },
  {
   "cell_type": "code",
   "execution_count": 58,
   "id": "726581bc-ab1d-4639-9ef7-4eedafe179ef",
   "metadata": {},
   "outputs": [
    {
     "name": "stdout",
     "output_type": "stream",
     "text": [
      "1/1 [==============================] - 2s 2s/step\n"
     ]
    }
   ],
   "source": [
    "yhat = model.predict(val[0])\n"
   ]
  },
  {
   "cell_type": "code",
   "execution_count": 59,
   "id": "b004aa5e-3cd7-46e6-9b2b-4d24d8f83770",
   "metadata": {},
   "outputs": [
    {
     "data": {
      "text/plain": [
       "<tf.Tensor: shape=(), dtype=string, numpy=b'ccpppppnnxxxxxnnnnnnnnnnnnnnnnnnnnnnnnnnnnnnnnnnnnnnnnneeeeeeeeeeeeeeeennnw'>"
      ]
     },
     "execution_count": 59,
     "metadata": {},
     "output_type": "execute_result"
    }
   ],
   "source": [
    "tf.strings.reduce_join([num_to_char(x) for x in tf.argmax(yhat[0],axis=1)])\n"
   ]
  },
  {
   "cell_type": "code",
   "execution_count": 60,
   "id": "e396be1d-2cce-4f0e-829b-e4fd7bc00dc0",
   "metadata": {},
   "outputs": [
    {
     "data": {
      "text/plain": [
       "<tf.Tensor: shape=(), dtype=string, numpy=b'ccpppppnnxxxxxnnnnnnnnnnnnnnnnnnnnnnnnnnnnnnnnnnnnnnnnneeeeeeeeeeeeeeeennnw'>"
      ]
     },
     "execution_count": 60,
     "metadata": {},
     "output_type": "execute_result"
    }
   ],
   "source": [
    "tf.strings.reduce_join([num_to_char(tf.argmax(x)) for x in yhat[0]])\n"
   ]
  },
  {
   "cell_type": "code",
   "execution_count": 61,
   "id": "e6740b27-5575-4eec-9e62-49a7e6abe208",
   "metadata": {},
   "outputs": [
    {
     "data": {
      "text/plain": [
       "(None, 75, 46, 140, 1)"
      ]
     },
     "execution_count": 61,
     "metadata": {},
     "output_type": "execute_result"
    }
   ],
   "source": [
    "model.input_shape\n"
   ]
  },
  {
   "cell_type": "code",
   "execution_count": 62,
   "id": "02ddf3d3-1613-4b51-8526-30264370af8e",
   "metadata": {},
   "outputs": [
    {
     "data": {
      "text/plain": [
       "(None, 75, 41)"
      ]
     },
     "execution_count": 62,
     "metadata": {},
     "output_type": "execute_result"
    }
   ],
   "source": [
    "model.output_shape\n"
   ]
  },
  {
   "cell_type": "code",
   "execution_count": 63,
   "id": "d4e4c58e-6706-41bc-9124-a0b79c22f7de",
   "metadata": {},
   "outputs": [],
   "source": [
    "def scheduler(epoch, lr):\n",
    "    if epoch < 30:\n",
    "        return lr\n",
    "    else:\n",
    "        return lr * tf.math.exp(-0.1)"
   ]
  },
  {
   "cell_type": "code",
   "execution_count": 64,
   "id": "c6f92162-3437-43d3-9a3d-aa538ffe05b0",
   "metadata": {},
   "outputs": [],
   "source": [
    "def CTCLoss(y_true, y_pred):\n",
    "    batch_len = tf.cast(tf.shape(y_true)[0], dtype=\"int64\")\n",
    "    input_length = tf.cast(tf.shape(y_pred)[1], dtype=\"int64\")\n",
    "    label_length = tf.cast(tf.shape(y_true)[1], dtype=\"int64\")\n",
    "\n",
    "    input_length = input_length * tf.ones(shape=(batch_len, 1), dtype=\"int64\")\n",
    "    label_length = label_length * tf.ones(shape=(batch_len, 1), dtype=\"int64\")\n",
    "\n",
    "    loss = tf.keras.backend.ctc_batch_cost(y_true, y_pred, input_length, label_length)\n",
    "    return loss"
   ]
  },
  {
   "cell_type": "code",
   "execution_count": 65,
   "id": "5f79d81b-1bd1-4011-9620-4c37313346ae",
   "metadata": {},
   "outputs": [],
   "source": [
    "class ProduceExample(tf.keras.callbacks.Callback): \n",
    "    def __init__(self, dataset) -> None: \n",
    "        self.dataset = dataset.as_numpy_iterator()\n",
    "    \n",
    "    def on_epoch_end(self, epoch, logs=None) -> None:\n",
    "        data = self.dataset.next()\n",
    "        yhat = self.model.predict(data[0])\n",
    "        decoded = tf.keras.backend.ctc_decode(yhat, [75,75], greedy=False)[0][0].numpy()\n",
    "        for x in range(len(yhat)):           \n",
    "            print('Original:', tf.strings.reduce_join(num_to_char(data[1][x])).numpy().decode('utf-8'))\n",
    "            print('Prediction:', tf.strings.reduce_join(num_to_char(decoded[x])).numpy().decode('utf-8'))\n",
    "            print('~'*100)"
   ]
  },
  {
   "cell_type": "code",
   "execution_count": 66,
   "id": "44ff6415-c3a2-4a7b-bf2d-793c7068d792",
   "metadata": {},
   "outputs": [],
   "source": [
    "model.compile(optimizer=Adam(learning_rate=0.0001), loss=CTCLoss)"
   ]
  },
  {
   "cell_type": "code",
   "execution_count": 67,
   "id": "09434d0e-d559-4242-84dd-06870418acf0",
   "metadata": {},
   "outputs": [],
   "source": [
    "checkpoint_callback = ModelCheckpoint(os.path.join('models','checkpoint'), monitor='loss', save_weights_only=True) "
   ]
  },
  {
   "cell_type": "code",
   "execution_count": 68,
   "id": "47b00c86-7b79-40ec-b0e6-bf9126a2b461",
   "metadata": {},
   "outputs": [],
   "source": [
    "schedule_callback = LearningRateScheduler(scheduler)"
   ]
  },
  {
   "cell_type": "code",
   "execution_count": 69,
   "id": "9d21be12-30e9-4019-9cce-3939a37a09ac",
   "metadata": {},
   "outputs": [],
   "source": [
    "example_callback = ProduceExample(test)"
   ]
  },
  {
   "cell_type": "code",
   "execution_count": null,
   "id": "877d37b2-664a-4bdf-98fa-77177eb6bfce",
   "metadata": {},
   "outputs": [],
   "source": [
    "model.fit(train, validation_data=test, epochs=100, callbacks=[checkpoint_callback, schedule_callback, example_callback])"
   ]
  },
  {
   "cell_type": "code",
   "execution_count": 70,
   "id": "89eecb51-73f6-491b-9241-cff9a91a665c",
   "metadata": {
    "collapsed": true,
    "jupyter": {
     "outputs_hidden": true,
     "source_hidden": true
    },
    "tags": []
   },
   "outputs": [
    {
     "name": "stderr",
     "output_type": "stream",
     "text": [
      "Downloading...\n",
      "From (uriginal): https://drive.google.com/uc?id=1vWscXs4Vt0a_1IH1-ct2TCgXAZT-N3_Y\n",
      "From (redirected): https://drive.google.com/uc?id=1vWscXs4Vt0a_1IH1-ct2TCgXAZT-N3_Y&confirm=t&uuid=88b9a472-84b3-4b1e-b95b-2e0a54bbd066\n",
      "To: C:\\coa\\checkpoints.zip\n",
      "100%|█████████████████████████████████████████████████████████████████████████████| 94.5M/94.5M [01:18<00:00, 1.20MB/s]\n"
     ]
    },
    {
     "data": {
      "text/plain": [
       "['models\\\\checkpoint.index',\n",
       " 'models\\\\__MACOSX/._checkpoint.index',\n",
       " 'models\\\\checkpoint.data-00000-of-00001',\n",
       " 'models\\\\__MACOSX/._checkpoint.data-00000-of-00001',\n",
       " 'models\\\\checkpoint',\n",
       " 'models\\\\__MACOSX/._checkpoint']"
      ]
     },
     "execution_count": 70,
     "metadata": {},
     "output_type": "execute_result"
    }
   ],
   "source": [
    "url = 'https://drive.google.com/uc?id=1vWscXs4Vt0a_1IH1-ct2TCgXAZT-N3_Y'\n",
    "output = 'checkpoints.zip'\n",
    "gdown.download(url, output, quiet=False)\n",
    "gdown.extractall('checkpoints.zip', 'models')"
   ]
  },
  {
   "cell_type": "code",
   "execution_count": 71,
   "id": "2bfce530-64a7-4cd9-803e-1470ea082a87",
   "metadata": {},
   "outputs": [
    {
     "data": {
      "text/plain": [
       "<tensorflow.python.checkpoint.checkpoint.CheckpointLoadStatus at 0x1fbe7904550>"
      ]
     },
     "execution_count": 71,
     "metadata": {},
     "output_type": "execute_result"
    }
   ],
   "source": [
    "model.load_weights('models/checkpoint')\n"
   ]
  },
  {
   "cell_type": "code",
   "execution_count": 72,
   "id": "9ab197b8-db73-43bd-b307-62c66e8eba16",
   "metadata": {},
   "outputs": [],
   "source": [
    "test_data = test.as_numpy_iterator()\n"
   ]
  },
  {
   "cell_type": "code",
   "execution_count": 73,
   "id": "8ea56eef-7b11-423d-8a5f-65d66e182951",
   "metadata": {},
   "outputs": [],
   "source": [
    "sample = test_data.next()\n"
   ]
  },
  {
   "cell_type": "code",
   "execution_count": 74,
   "id": "3b7621b8-2f05-4725-b2ba-74b007998559",
   "metadata": {},
   "outputs": [
    {
     "name": "stdout",
     "output_type": "stream",
     "text": [
      "1/1 [==============================] - 3s 3s/step\n"
     ]
    }
   ],
   "source": [
    "yhat = model.predict(sample[0])\n"
   ]
  },
  {
   "cell_type": "code",
   "execution_count": 75,
   "id": "9f930bb7-aab1-4cc7-9b28-dfc926e7daff",
   "metadata": {},
   "outputs": [
    {
     "name": "stdout",
     "output_type": "stream",
     "text": [
      "~~~~~~~~~~~~~~~~~~~~~~~~~~~~~~~~~~~~~~~~~~~~~~~~~~~~~~~~~~~~~~~~~~~~~~~~~~~~~~~~~~~~~~~~~~~~~~~~~~~~ REAL TEXT\n"
     ]
    },
    {
     "data": {
      "text/plain": [
       "[<tf.Tensor: shape=(), dtype=string, numpy=b'set red with v one soon'>,\n",
       " <tf.Tensor: shape=(), dtype=string, numpy=b'place blue by v seven soon'>]"
      ]
     },
     "execution_count": 75,
     "metadata": {},
     "output_type": "execute_result"
    }
   ],
   "source": [
    "print('~'*100, 'REAL TEXT')\n",
    "[tf.strings.reduce_join([num_to_char(word) for word in sentence]) for sentence in sample[1]]"
   ]
  },
  {
   "cell_type": "code",
   "execution_count": 76,
   "id": "2079a89c-3a20-46a5-92cd-63ab78778df6",
   "metadata": {},
   "outputs": [],
   "source": [
    "decoded = tf.keras.backend.ctc_decode(yhat, input_length=[75,75], greedy=True)[0][0].numpy()\n"
   ]
  },
  {
   "cell_type": "code",
   "execution_count": 77,
   "id": "c623ddeb-4222-4dbf-8166-5c6be0ba6702",
   "metadata": {},
   "outputs": [
    {
     "name": "stdout",
     "output_type": "stream",
     "text": [
      "~~~~~~~~~~~~~~~~~~~~~~~~~~~~~~~~~~~~~~~~~~~~~~~~~~~~~~~~~~~~~~~~~~~~~~~~~~~~~~~~~~~~~~~~~~~~~~~~~~~~ PREDICTIONS\n"
     ]
    },
    {
     "data": {
      "text/plain": [
       "[<tf.Tensor: shape=(), dtype=string, numpy=b'set red with v one soon'>,\n",
       " <tf.Tensor: shape=(), dtype=string, numpy=b'place blue by v seven soon'>]"
      ]
     },
     "execution_count": 77,
     "metadata": {},
     "output_type": "execute_result"
    }
   ],
   "source": [
    "print('~'*100, 'PREDICTIONS')\n",
    "[tf.strings.reduce_join([num_to_char(word) for word in sentence]) for sentence in decoded]"
   ]
  },
  {
   "cell_type": "code",
   "execution_count": 84,
   "id": "76e60202-0ca7-4efb-822b-98860af33267",
   "metadata": {},
   "outputs": [],
   "source": [
    "sample = load_data(tf.convert_to_tensor('.\\\\data\\\\s1\\\\lgaf4n.mpg'))\n"
   ]
  },
  {
   "cell_type": "code",
   "execution_count": 85,
   "id": "5faad9ec-122c-4b7d-90ee-614ce31984c9",
   "metadata": {},
   "outputs": [
    {
     "name": "stdout",
     "output_type": "stream",
     "text": [
      "~~~~~~~~~~~~~~~~~~~~~~~~~~~~~~~~~~~~~~~~~~~~~~~~~~~~~~~~~~~~~~~~~~~~~~~~~~~~~~~~~~~~~~~~~~~~~~~~~~~~ REAL TEXT\n"
     ]
    },
    {
     "data": {
      "text/plain": [
       "[<tf.Tensor: shape=(), dtype=string, numpy=b'lay green at f four now'>]"
      ]
     },
     "execution_count": 85,
     "metadata": {},
     "output_type": "execute_result"
    }
   ],
   "source": [
    "print('~'*100, 'REAL TEXT')\n",
    "[tf.strings.reduce_join([num_to_char(word) for word in sentence]) for sentence in [sample[1]]]"
   ]
  },
  {
   "cell_type": "code",
   "execution_count": 86,
   "id": "6bae0807-edef-4bdf-b16d-013113a548aa",
   "metadata": {},
   "outputs": [
    {
     "name": "stdout",
     "output_type": "stream",
     "text": [
      "1/1 [==============================] - 1s 561ms/step\n"
     ]
    }
   ],
   "source": [
    "yhat = model.predict(tf.expand_dims(sample[0], axis=0))"
   ]
  },
  {
   "cell_type": "code",
   "execution_count": 87,
   "id": "e4e3bd2b-ac12-4f6a-8fe5-48e45ad7618e",
   "metadata": {},
   "outputs": [],
   "source": [
    "decoded = tf.keras.backend.ctc_decode(yhat, input_length=[75], greedy=True)[0][0].numpy()\n"
   ]
  },
  {
   "cell_type": "code",
   "execution_count": 88,
   "id": "1eeda0ff-4b79-44b4-a867-9fc7268b5cd1",
   "metadata": {},
   "outputs": [
    {
     "name": "stdout",
     "output_type": "stream",
     "text": [
      "~~~~~~~~~~~~~~~~~~~~~~~~~~~~~~~~~~~~~~~~~~~~~~~~~~~~~~~~~~~~~~~~~~~~~~~~~~~~~~~~~~~~~~~~~~~~~~~~~~~~ PREDICTIONS\n"
     ]
    },
    {
     "data": {
      "text/plain": [
       "[<tf.Tensor: shape=(), dtype=string, numpy=b'lay green at f four now'>]"
      ]
     },
     "execution_count": 88,
     "metadata": {},
     "output_type": "execute_result"
    }
   ],
   "source": [
    "print('~'*100, 'PREDICTIONS')\n",
    "[tf.strings.reduce_join([num_to_char(word) for word in sentence]) for sentence in decoded]"
   ]
  },
  {
   "cell_type": "code",
   "execution_count": 89,
   "id": "e2517732-40b9-46d9-bd6a-fa4cca19f8f4",
   "metadata": {},
   "outputs": [],
   "source": [
    "sample = load_data(tf.convert_to_tensor('.\\\\data\\\\s1\\\\bbaz7a.mpg'))"
   ]
  },
  {
   "cell_type": "code",
   "execution_count": 90,
   "id": "33c4ac73-50d4-4024-81be-4bf41fcaf11e",
   "metadata": {},
   "outputs": [
    {
     "name": "stdout",
     "output_type": "stream",
     "text": [
      "~~~~~~~~~~~~~~~~~~~~~~~~~~~~~~~~~~~~~~~~~~~~~~~~~~~~~~~~~~~~~~~~~~~~~~~~~~~~~~~~~~~~~~~~~~~~~~~~~~~~ REAL TEXT\n"
     ]
    },
    {
     "data": {
      "text/plain": [
       "[<tf.Tensor: shape=(), dtype=string, numpy=b'bin blue at z seven again'>]"
      ]
     },
     "execution_count": 90,
     "metadata": {},
     "output_type": "execute_result"
    }
   ],
   "source": [
    "print('~'*100, 'REAL TEXT')\n",
    "[tf.strings.reduce_join([num_to_char(word) for word in sentence]) for sentence in [sample[1]]]"
   ]
  },
  {
   "cell_type": "code",
   "execution_count": 91,
   "id": "45e39264-1317-4c91-9929-7e426e181284",
   "metadata": {},
   "outputs": [
    {
     "name": "stdout",
     "output_type": "stream",
     "text": [
      "1/1 [==============================] - 1s 651ms/step\n"
     ]
    }
   ],
   "source": [
    "yhat = model.predict(tf.expand_dims(sample[0], axis=0))"
   ]
  },
  {
   "cell_type": "code",
   "execution_count": 92,
   "id": "52811c47-23f2-4804-a581-ef167b4f938b",
   "metadata": {},
   "outputs": [],
   "source": [
    "decoded = tf.keras.backend.ctc_decode(yhat, input_length=[75], greedy=True)[0][0].numpy()"
   ]
  },
  {
   "cell_type": "code",
   "execution_count": 93,
   "id": "eb8e96de-6db3-4349-b1b0-6dbd88721698",
   "metadata": {},
   "outputs": [
    {
     "name": "stdout",
     "output_type": "stream",
     "text": [
      "~~~~~~~~~~~~~~~~~~~~~~~~~~~~~~~~~~~~~~~~~~~~~~~~~~~~~~~~~~~~~~~~~~~~~~~~~~~~~~~~~~~~~~~~~~~~~~~~~~~~ PREDICTIONS\n"
     ]
    },
    {
     "data": {
      "text/plain": [
       "[<tf.Tensor: shape=(), dtype=string, numpy=b'bin blue at z seven again'>]"
      ]
     },
     "execution_count": 93,
     "metadata": {},
     "output_type": "execute_result"
    }
   ],
   "source": [
    "print('~'*100, 'PREDICTIONS')\n",
    "[tf.strings.reduce_join([num_to_char(word) for word in sentence]) for sentence in decoded]"
   ]
  },
  {
   "cell_type": "code",
   "execution_count": 94,
   "id": "57acf8d9-06d5-450a-bcff-0e17598b1f36",
   "metadata": {},
   "outputs": [],
   "source": [
    "sample = load_data(tf.convert_to_tensor('.\\\\data\\\\s1\\\\bbir7s.mpg'))"
   ]
  },
  {
   "cell_type": "code",
   "execution_count": 95,
   "id": "ba0621de-4417-4662-9784-6eec89fb13b2",
   "metadata": {},
   "outputs": [
    {
     "name": "stdout",
     "output_type": "stream",
     "text": [
      "~~~~~~~~~~~~~~~~~~~~~~~~~~~~~~~~~~~~~~~~~~~~~~~~~~~~~~~~~~~~~~~~~~~~~~~~~~~~~~~~~~~~~~~~~~~~~~~~~~~~ REAL TEXT\n"
     ]
    },
    {
     "data": {
      "text/plain": [
       "[<tf.Tensor: shape=(), dtype=string, numpy=b'bin blue in r seven soon'>]"
      ]
     },
     "execution_count": 95,
     "metadata": {},
     "output_type": "execute_result"
    }
   ],
   "source": [
    "print('~'*100, 'REAL TEXT')\n",
    "[tf.strings.reduce_join([num_to_char(word) for word in sentence]) for sentence in [sample[1]]]"
   ]
  },
  {
   "cell_type": "code",
   "execution_count": 96,
   "id": "d7706032-f566-45b2-8b5d-25df897dc729",
   "metadata": {},
   "outputs": [
    {
     "name": "stdout",
     "output_type": "stream",
     "text": [
      "1/1 [==============================] - 1s 563ms/step\n"
     ]
    }
   ],
   "source": [
    "yhat = model.predict(tf.expand_dims(sample[0], axis=0))"
   ]
  },
  {
   "cell_type": "code",
   "execution_count": 97,
   "id": "f965ce4a-e49b-4949-8099-21b78545727e",
   "metadata": {},
   "outputs": [],
   "source": [
    "decoded = tf.keras.backend.ctc_decode(yhat, input_length=[75], greedy=True)[0][0].numpy()"
   ]
  },
  {
   "cell_type": "code",
   "execution_count": 98,
   "id": "6e0c2236-685c-4aa5-9f00-441524cc7720",
   "metadata": {},
   "outputs": [
    {
     "name": "stdout",
     "output_type": "stream",
     "text": [
      "~~~~~~~~~~~~~~~~~~~~~~~~~~~~~~~~~~~~~~~~~~~~~~~~~~~~~~~~~~~~~~~~~~~~~~~~~~~~~~~~~~~~~~~~~~~~~~~~~~~~ PREDICTIONS\n"
     ]
    },
    {
     "data": {
      "text/plain": [
       "[<tf.Tensor: shape=(), dtype=string, numpy=b'bin blue in r seven soon'>]"
      ]
     },
     "execution_count": 98,
     "metadata": {},
     "output_type": "execute_result"
    }
   ],
   "source": [
    "print('~'*100, 'PREDICTIONS')\n",
    "[tf.strings.reduce_join([num_to_char(word) for word in sentence]) for sentence in decoded]"
   ]
  },
  {
   "cell_type": "code",
   "execution_count": null,
   "id": "7315aca5-209f-4350-ad35-adafa131eedf",
   "metadata": {},
   "outputs": [],
   "source": []
  }
 ],
 "metadata": {
  "kernelspec": {
   "display_name": "Python 3 (ipykernel)",
   "language": "python",
   "name": "python3"
  },
  "language_info": {
   "codemirror_mode": {
    "name": "ipython",
    "version": 3
   },
   "file_extension": ".py",
   "mimetype": "text/x-python",
   "name": "python",
   "nbconvert_exporter": "python",
   "pygments_lexer": "ipython3",
   "version": "3.10.11"
  }
 },
 "nbformat": 4,
 "nbformat_minor": 5
}
