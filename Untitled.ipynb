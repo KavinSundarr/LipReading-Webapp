{
 "cells": [
  {
   "cell_type": "code",
   "execution_count": 1,
   "id": "b8838704-f7e9-4992-a978-238e1a21fe11",
   "metadata": {},
   "outputs": [],
   "source": [
    "import tensorflow as tf"
   ]
  },
  {
   "cell_type": "code",
   "execution_count": 2,
   "id": "2cf2ced6-1cce-48a9-b0a5-200693598c6b",
   "metadata": {},
   "outputs": [
    {
     "name": "stdout",
     "output_type": "stream",
     "text": [
      "2.10.1\n"
     ]
    }
   ],
   "source": [
    "print(tf. __version__) "
   ]
  },
  {
   "cell_type": "code",
   "execution_count": null,
   "id": "c4fe8b39-a1eb-4cc1-81c7-b878a7c10d0f",
   "metadata": {},
   "outputs": [],
   "source": []
  }
 ],
 "metadata": {
  "kernelspec": {
   "display_name": "Python 3 (ipykernel)",
   "language": "python",
   "name": "python3"
  },
  "language_info": {
   "codemirror_mode": {
    "name": "ipython",
    "version": 3
   },
   "file_extension": ".py",
   "mimetype": "text/x-python",
   "name": "python",
   "nbconvert_exporter": "python",
   "pygments_lexer": "ipython3",
   "version": "3.10.11"
  }
 },
 "nbformat": 4,
 "nbformat_minor": 5
}
